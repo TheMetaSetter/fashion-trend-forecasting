{
 "cells": [
  {
   "cell_type": "markdown",
   "metadata": {},
   "source": [
    "## Import Libraries and Read Data"
   ]
  },
  {
   "cell_type": "code",
   "execution_count": 101,
   "metadata": {},
   "outputs": [],
   "source": [
    "# Libraries to manipulate data\n",
    "import numpy as np\n",
    "import pandas as pd\n",
    "import json\n",
    "\n",
    "# Modules, classes, and methods from scikit-learn\n",
    "from sklearn.feature_extraction.text import TfidfVectorizer\n",
    "from sklearn.decomposition import TruncatedSVD\n",
    "from sklearn.model_selection import train_test_split\n",
    "from sklearn.ensemble import RandomForestClassifier\n",
    "from sklearn.metrics import accuracy_score\n",
    "from sklearn.preprocessing import StandardScaler\n",
    "from sklearn.impute import KNNImputer\n",
    "\n",
    "# Others\n",
    "import matplotlib.pyplot as plt\n",
    "import joblib"
   ]
  },
  {
   "cell_type": "markdown",
   "metadata": {},
   "source": [
    "## Read the Dataset and Split it into Train Set and Test Set"
   ]
  },
  {
   "cell_type": "code",
   "execution_count": 102,
   "metadata": {},
   "outputs": [
    {
     "data": {
      "text/html": [
       "<div>\n",
       "<style scoped>\n",
       "    .dataframe tbody tr th:only-of-type {\n",
       "        vertical-align: middle;\n",
       "    }\n",
       "\n",
       "    .dataframe tbody tr th {\n",
       "        vertical-align: top;\n",
       "    }\n",
       "\n",
       "    .dataframe thead th {\n",
       "        text-align: right;\n",
       "    }\n",
       "</style>\n",
       "<table border=\"1\" class=\"dataframe\">\n",
       "  <thead>\n",
       "    <tr style=\"text-align: right;\">\n",
       "      <th></th>\n",
       "      <th>title</th>\n",
       "      <th>price_min</th>\n",
       "      <th>price_max</th>\n",
       "      <th>rating_total</th>\n",
       "      <th>rating_percent</th>\n",
       "      <th>variants</th>\n",
       "      <th>product_about</th>\n",
       "      <th>product_details.Fabric type</th>\n",
       "      <th>product_details.Care instructions</th>\n",
       "      <th>product_details.Origin</th>\n",
       "      <th>...</th>\n",
       "      <th>product_details.Sole material</th>\n",
       "      <th>product_details.Water resistance level</th>\n",
       "      <th>product_details.Sleeve type</th>\n",
       "      <th>product_details.Inseam</th>\n",
       "      <th>product_details.Shaft height</th>\n",
       "      <th>product_details.Pocket style</th>\n",
       "      <th>product_details.Shaft circumference</th>\n",
       "      <th>product_details.Inner material</th>\n",
       "      <th>product_details.Material</th>\n",
       "      <th>product_details.Item type name</th>\n",
       "    </tr>\n",
       "  </thead>\n",
       "  <tbody>\n",
       "    <tr>\n",
       "      <th>0</th>\n",
       "      <td>adidas Men's Athletic Cushioned Crew Socks wit...</td>\n",
       "      <td>13.99</td>\n",
       "      <td>13.99</td>\n",
       "      <td>42763</td>\n",
       "      <td>[79, 12, 5, 2, 2]</td>\n",
       "      <td>[Black/Aluminum 2, Heather Grey/Black, White/B...</td>\n",
       "      <td>Cushioned in the foot for comfort and durabili...</td>\n",
       "      <td>97% Polyester, 3% Spandex</td>\n",
       "      <td>Machine Wash</td>\n",
       "      <td>Imported</td>\n",
       "      <td>...</td>\n",
       "      <td>NaN</td>\n",
       "      <td>NaN</td>\n",
       "      <td>NaN</td>\n",
       "      <td>NaN</td>\n",
       "      <td>NaN</td>\n",
       "      <td>NaN</td>\n",
       "      <td>NaN</td>\n",
       "      <td>NaN</td>\n",
       "      <td>NaN</td>\n",
       "      <td>NaN</td>\n",
       "    </tr>\n",
       "    <tr>\n",
       "      <th>1</th>\n",
       "      <td>Nike Performance Cushion Crew Socks with Band ...</td>\n",
       "      <td>28.22</td>\n",
       "      <td>37.00</td>\n",
       "      <td>8619</td>\n",
       "      <td>[79, 10, 5, 2, 5]</td>\n",
       "      <td>[Black/White, White/Black]</td>\n",
       "      <td>Reinforced heel and toe for enhanced durabilit...</td>\n",
       "      <td>76% Cotton/21% Nylon/2% Spandex/1% Polyester</td>\n",
       "      <td>Machine Wash</td>\n",
       "      <td>Imported</td>\n",
       "      <td>...</td>\n",
       "      <td>NaN</td>\n",
       "      <td>NaN</td>\n",
       "      <td>NaN</td>\n",
       "      <td>NaN</td>\n",
       "      <td>NaN</td>\n",
       "      <td>NaN</td>\n",
       "      <td>NaN</td>\n",
       "      <td>NaN</td>\n",
       "      <td>NaN</td>\n",
       "      <td>NaN</td>\n",
       "    </tr>\n",
       "    <tr>\n",
       "      <th>2</th>\n",
       "      <td>Thermajohn Long Johns Thermal Underwear for Me...</td>\n",
       "      <td>25.49</td>\n",
       "      <td>31.99</td>\n",
       "      <td>52418</td>\n",
       "      <td>[76, 14, 5, 2, 3]</td>\n",
       "      <td>[Black, Charcoal, Grey, Navy, White, Christmas...</td>\n",
       "      <td>Heat Retention: When it comes to warmth and ev...</td>\n",
       "      <td>92% Polyester, 8% Spandex</td>\n",
       "      <td>Machine Wash</td>\n",
       "      <td>Imported</td>\n",
       "      <td>...</td>\n",
       "      <td>NaN</td>\n",
       "      <td>NaN</td>\n",
       "      <td>NaN</td>\n",
       "      <td>NaN</td>\n",
       "      <td>NaN</td>\n",
       "      <td>NaN</td>\n",
       "      <td>NaN</td>\n",
       "      <td>NaN</td>\n",
       "      <td>NaN</td>\n",
       "      <td>NaN</td>\n",
       "    </tr>\n",
       "    <tr>\n",
       "      <th>3</th>\n",
       "      <td>Calvin Klein Men's Cotton Stretch 7-Pack Boxer...</td>\n",
       "      <td>54.05</td>\n",
       "      <td>76.53</td>\n",
       "      <td>12714</td>\n",
       "      <td>[75, 12, 6, 3, 6]</td>\n",
       "      <td>[2 Blue Shadow, 2 White, 2 Black, 1 Cobalt Wat...</td>\n",
       "      <td>COTTON STRETCH: Spun in pure, premium cotton y...</td>\n",
       "      <td>95% Cotton, 5% Elastane</td>\n",
       "      <td>Machine Wash</td>\n",
       "      <td>Imported</td>\n",
       "      <td>...</td>\n",
       "      <td>NaN</td>\n",
       "      <td>NaN</td>\n",
       "      <td>NaN</td>\n",
       "      <td>NaN</td>\n",
       "      <td>NaN</td>\n",
       "      <td>NaN</td>\n",
       "      <td>NaN</td>\n",
       "      <td>NaN</td>\n",
       "      <td>NaN</td>\n",
       "      <td>NaN</td>\n",
       "    </tr>\n",
       "    <tr>\n",
       "      <th>4</th>\n",
       "      <td>Hanes Men's Hoodie, EcoSmart Fleece Hoodie, Ho...</td>\n",
       "      <td>11.46</td>\n",
       "      <td>11.46</td>\n",
       "      <td>176801</td>\n",
       "      <td>[72, 15, 7, 3, 4]</td>\n",
       "      <td>[Army Brown, Ash, Black, Cardinal, Charcoal He...</td>\n",
       "      <td>FLEECE TO FEEL GOOD ABOUT - Hanes EcoSmart men...</td>\n",
       "      <td>50% Cotton, 50% Polyester</td>\n",
       "      <td>Machine Wash</td>\n",
       "      <td>Imported</td>\n",
       "      <td>...</td>\n",
       "      <td>NaN</td>\n",
       "      <td>NaN</td>\n",
       "      <td>NaN</td>\n",
       "      <td>NaN</td>\n",
       "      <td>NaN</td>\n",
       "      <td>NaN</td>\n",
       "      <td>NaN</td>\n",
       "      <td>NaN</td>\n",
       "      <td>NaN</td>\n",
       "      <td>NaN</td>\n",
       "    </tr>\n",
       "  </tbody>\n",
       "</table>\n",
       "<p>5 rows × 32 columns</p>\n",
       "</div>"
      ],
      "text/plain": [
       "                                               title  price_min  price_max  \\\n",
       "0  adidas Men's Athletic Cushioned Crew Socks wit...      13.99      13.99   \n",
       "1  Nike Performance Cushion Crew Socks with Band ...      28.22      37.00   \n",
       "2  Thermajohn Long Johns Thermal Underwear for Me...      25.49      31.99   \n",
       "3  Calvin Klein Men's Cotton Stretch 7-Pack Boxer...      54.05      76.53   \n",
       "4  Hanes Men's Hoodie, EcoSmart Fleece Hoodie, Ho...      11.46      11.46   \n",
       "\n",
       "   rating_total     rating_percent  \\\n",
       "0         42763  [79, 12, 5, 2, 2]   \n",
       "1          8619  [79, 10, 5, 2, 5]   \n",
       "2         52418  [76, 14, 5, 2, 3]   \n",
       "3         12714  [75, 12, 6, 3, 6]   \n",
       "4        176801  [72, 15, 7, 3, 4]   \n",
       "\n",
       "                                            variants  \\\n",
       "0  [Black/Aluminum 2, Heather Grey/Black, White/B...   \n",
       "1                         [Black/White, White/Black]   \n",
       "2  [Black, Charcoal, Grey, Navy, White, Christmas...   \n",
       "3  [2 Blue Shadow, 2 White, 2 Black, 1 Cobalt Wat...   \n",
       "4  [Army Brown, Ash, Black, Cardinal, Charcoal He...   \n",
       "\n",
       "                                       product_about  \\\n",
       "0  Cushioned in the foot for comfort and durabili...   \n",
       "1  Reinforced heel and toe for enhanced durabilit...   \n",
       "2  Heat Retention: When it comes to warmth and ev...   \n",
       "3  COTTON STRETCH: Spun in pure, premium cotton y...   \n",
       "4  FLEECE TO FEEL GOOD ABOUT - Hanes EcoSmart men...   \n",
       "\n",
       "                    product_details.Fabric type  \\\n",
       "0                     97% Polyester, 3% Spandex   \n",
       "1  76% Cotton/21% Nylon/2% Spandex/1% Polyester   \n",
       "2                     92% Polyester, 8% Spandex   \n",
       "3                       95% Cotton, 5% Elastane   \n",
       "4                     50% Cotton, 50% Polyester   \n",
       "\n",
       "  product_details.Care instructions product_details.Origin  ...  \\\n",
       "0                      Machine Wash               Imported  ...   \n",
       "1                      Machine Wash               Imported  ...   \n",
       "2                      Machine Wash               Imported  ...   \n",
       "3                      Machine Wash               Imported  ...   \n",
       "4                      Machine Wash               Imported  ...   \n",
       "\n",
       "  product_details.Sole material product_details.Water resistance level  \\\n",
       "0                           NaN                                    NaN   \n",
       "1                           NaN                                    NaN   \n",
       "2                           NaN                                    NaN   \n",
       "3                           NaN                                    NaN   \n",
       "4                           NaN                                    NaN   \n",
       "\n",
       "  product_details.Sleeve type product_details.Inseam  \\\n",
       "0                         NaN                    NaN   \n",
       "1                         NaN                    NaN   \n",
       "2                         NaN                    NaN   \n",
       "3                         NaN                    NaN   \n",
       "4                         NaN                    NaN   \n",
       "\n",
       "  product_details.Shaft height product_details.Pocket style  \\\n",
       "0                          NaN                          NaN   \n",
       "1                          NaN                          NaN   \n",
       "2                          NaN                          NaN   \n",
       "3                          NaN                          NaN   \n",
       "4                          NaN                          NaN   \n",
       "\n",
       "  product_details.Shaft circumference product_details.Inner material  \\\n",
       "0                                 NaN                            NaN   \n",
       "1                                 NaN                            NaN   \n",
       "2                                 NaN                            NaN   \n",
       "3                                 NaN                            NaN   \n",
       "4                                 NaN                            NaN   \n",
       "\n",
       "  product_details.Material product_details.Item type name  \n",
       "0                      NaN                            NaN  \n",
       "1                      NaN                            NaN  \n",
       "2                      NaN                            NaN  \n",
       "3                      NaN                            NaN  \n",
       "4                      NaN                            NaN  \n",
       "\n",
       "[5 rows x 32 columns]"
      ]
     },
     "execution_count": 102,
     "metadata": {},
     "output_type": "execute_result"
    }
   ],
   "source": [
    "# Read the data from the json file\n",
    "data_path = \"../data/raw/fashion_products.json\"\n",
    "with open(data_path) as f:\n",
    "    data = json.load(f)\n",
    "\n",
    "# Normalize the data and create a dataframe\n",
    "df = pd.json_normalize(data)\n",
    "df.head()"
   ]
  },
  {
   "cell_type": "code",
   "execution_count": 103,
   "metadata": {},
   "outputs": [
    {
     "name": "stdout",
     "output_type": "stream",
     "text": [
      "<class 'pandas.core.frame.DataFrame'>\n",
      "RangeIndex: 4690 entries, 0 to 4689\n",
      "Data columns (total 32 columns):\n",
      " #   Column                                  Non-Null Count  Dtype  \n",
      "---  ------                                  --------------  -----  \n",
      " 0   title                                   4690 non-null   object \n",
      " 1   price_min                               4690 non-null   float64\n",
      " 2   price_max                               4690 non-null   float64\n",
      " 3   rating_total                            4690 non-null   int64  \n",
      " 4   rating_percent                          4580 non-null   object \n",
      " 5   variants                                4690 non-null   object \n",
      " 6   product_about                           4690 non-null   object \n",
      " 7   product_details.Fabric type             4526 non-null   object \n",
      " 8   product_details.Care instructions       4449 non-null   object \n",
      " 9   product_details.Origin                  4049 non-null   object \n",
      " 10  product_details.Fit type                146 non-null    object \n",
      " 11  product_details.Pattern                 614 non-null    object \n",
      " 12  product_details.Closure type            2097 non-null   object \n",
      " 13  product_details.Rise style              92 non-null     object \n",
      " 14  product_details.Weave type              112 non-null    object \n",
      " 15  product_details.Country of Origin       352 non-null    object \n",
      " 16  product_details.Neck style              213 non-null    object \n",
      " 17  product_details.Leg style               19 non-null     object \n",
      " 18  product_details.Fur description         45 non-null     object \n",
      " 19  product_details.Outer material          16 non-null     object \n",
      " 20  product_details.Length                  1 non-null      object \n",
      " 21  product_details.Bottom style            12 non-null     object \n",
      " 22  product_details.Sole material           16 non-null     object \n",
      " 23  product_details.Water resistance level  1 non-null      object \n",
      " 24  product_details.Sleeve type             31 non-null     object \n",
      " 25  product_details.Inseam                  43 non-null     object \n",
      " 26  product_details.Shaft height            2 non-null      object \n",
      " 27  product_details.Pocket style            1 non-null      object \n",
      " 28  product_details.Shaft circumference     1 non-null      object \n",
      " 29  product_details.Inner material          1 non-null      object \n",
      " 30  product_details.Material                1 non-null      object \n",
      " 31  product_details.Item type name          1 non-null      object \n",
      "dtypes: float64(2), int64(1), object(29)\n",
      "memory usage: 1.1+ MB\n"
     ]
    }
   ],
   "source": [
    "df.info()"
   ]
  },
  {
   "cell_type": "markdown",
   "metadata": {},
   "source": [
    "- By observing basic information of the data using the `.info()` method, we can see that there are many columns missing very large proportion of data."
   ]
  },
  {
   "cell_type": "code",
   "execution_count": 104,
   "metadata": {},
   "outputs": [],
   "source": [
    "# # NOTICE: WE ONLY RUN THIS PIECE OF CODE 1 TIME. PLEASE DON'T UNCOMMENT\n",
    "# # CHÚ Ý: ĐỪNG THÁO COMMENT ĐOẠN CODE NÀY\n",
    "\n",
    "# # Sample 80% of the data for training and 20% for testing\n",
    "# train, test = train_test_split(df, test_size=0.2)\n",
    "\n",
    "# # Save the train and test data\n",
    "# train.to_csv(\"../data/raw/train.csv\", index=False)\n",
    "# test.to_csv(\"../data/raw/test.csv\", index=False)"
   ]
  },
  {
   "cell_type": "markdown",
   "metadata": {},
   "source": [
    "## Data Preparation"
   ]
  },
  {
   "cell_type": "code",
   "execution_count": 105,
   "metadata": {},
   "outputs": [
    {
     "data": {
      "text/html": [
       "<div>\n",
       "<style scoped>\n",
       "    .dataframe tbody tr th:only-of-type {\n",
       "        vertical-align: middle;\n",
       "    }\n",
       "\n",
       "    .dataframe tbody tr th {\n",
       "        vertical-align: top;\n",
       "    }\n",
       "\n",
       "    .dataframe thead th {\n",
       "        text-align: right;\n",
       "    }\n",
       "</style>\n",
       "<table border=\"1\" class=\"dataframe\">\n",
       "  <thead>\n",
       "    <tr style=\"text-align: right;\">\n",
       "      <th></th>\n",
       "      <th>title</th>\n",
       "      <th>price_min</th>\n",
       "      <th>price_max</th>\n",
       "      <th>rating_total</th>\n",
       "      <th>rating_percent</th>\n",
       "      <th>variants</th>\n",
       "      <th>product_about</th>\n",
       "      <th>product_details.Fabric type</th>\n",
       "      <th>product_details.Care instructions</th>\n",
       "      <th>product_details.Origin</th>\n",
       "      <th>...</th>\n",
       "      <th>product_details.Sole material</th>\n",
       "      <th>product_details.Water resistance level</th>\n",
       "      <th>product_details.Sleeve type</th>\n",
       "      <th>product_details.Inseam</th>\n",
       "      <th>product_details.Shaft height</th>\n",
       "      <th>product_details.Pocket style</th>\n",
       "      <th>product_details.Shaft circumference</th>\n",
       "      <th>product_details.Inner material</th>\n",
       "      <th>product_details.Material</th>\n",
       "      <th>product_details.Item type name</th>\n",
       "    </tr>\n",
       "  </thead>\n",
       "  <tbody>\n",
       "    <tr>\n",
       "      <th>0</th>\n",
       "      <td>Dickies Genuine Men's 5-pair Crew Style Work S...</td>\n",
       "      <td>4.56</td>\n",
       "      <td>4.56</td>\n",
       "      <td>279</td>\n",
       "      <td>[74, 14, 5, 3, 3]</td>\n",
       "      <td>[]</td>\n",
       "      <td>Ventilated Breathing Channel - For air circula...</td>\n",
       "      <td>Cotton</td>\n",
       "      <td>Machine Wash</td>\n",
       "      <td>NaN</td>\n",
       "      <td>...</td>\n",
       "      <td>NaN</td>\n",
       "      <td>NaN</td>\n",
       "      <td>NaN</td>\n",
       "      <td>NaN</td>\n",
       "      <td>NaN</td>\n",
       "      <td>NaN</td>\n",
       "      <td>NaN</td>\n",
       "      <td>NaN</td>\n",
       "      <td>NaN</td>\n",
       "      <td>NaN</td>\n",
       "    </tr>\n",
       "    <tr>\n",
       "      <th>1</th>\n",
       "      <td>Nike Men`s Essential Micro Boxer Briefs 3 Pack</td>\n",
       "      <td>34.90</td>\n",
       "      <td>76.00</td>\n",
       "      <td>726</td>\n",
       "      <td>[82, 8, 5, 1, 4]</td>\n",
       "      <td>['Black', 'Aquarius Blue/Laser Fuchia/Cool Gre...</td>\n",
       "      <td>100% Cotton\\nMade in the USA or Imported\\nPull...</td>\n",
       "      <td>100% Cotton</td>\n",
       "      <td>Machine Wash</td>\n",
       "      <td>Made in the USA or Imported</td>\n",
       "      <td>...</td>\n",
       "      <td>NaN</td>\n",
       "      <td>NaN</td>\n",
       "      <td>NaN</td>\n",
       "      <td>NaN</td>\n",
       "      <td>NaN</td>\n",
       "      <td>NaN</td>\n",
       "      <td>NaN</td>\n",
       "      <td>NaN</td>\n",
       "      <td>NaN</td>\n",
       "      <td>NaN</td>\n",
       "    </tr>\n",
       "    <tr>\n",
       "      <th>2</th>\n",
       "      <td>Carhartt Men's 100 percentage Cotton Midweight...</td>\n",
       "      <td>27.99</td>\n",
       "      <td>35.99</td>\n",
       "      <td>245</td>\n",
       "      <td>[68, 18, 5, 4, 5]</td>\n",
       "      <td>['Black Heather', 'Heather Grey']</td>\n",
       "      <td>Waffle knit traps heat; smooth flatlock seams;...</td>\n",
       "      <td>100% Cotton</td>\n",
       "      <td>Machine Wash</td>\n",
       "      <td>Imported</td>\n",
       "      <td>...</td>\n",
       "      <td>NaN</td>\n",
       "      <td>NaN</td>\n",
       "      <td>NaN</td>\n",
       "      <td>NaN</td>\n",
       "      <td>NaN</td>\n",
       "      <td>NaN</td>\n",
       "      <td>NaN</td>\n",
       "      <td>NaN</td>\n",
       "      <td>NaN</td>\n",
       "      <td>NaN</td>\n",
       "    </tr>\n",
       "    <tr>\n",
       "      <th>3</th>\n",
       "      <td>Alimens &amp; Gentle Men's Dress Shirts French Cuf...</td>\n",
       "      <td>24.99</td>\n",
       "      <td>26.99</td>\n",
       "      <td>3437</td>\n",
       "      <td>[66, 16, 8, 3, 8]</td>\n",
       "      <td>['White', 'Black', 'Twilled Pink', 'Twilled Bl...</td>\n",
       "      <td>Alimens &amp; Gentle Design French Cuffs Shirt; Co...</td>\n",
       "      <td>60% Cotton, 40% Polyester</td>\n",
       "      <td>Machine Wash</td>\n",
       "      <td>Imported</td>\n",
       "      <td>...</td>\n",
       "      <td>NaN</td>\n",
       "      <td>NaN</td>\n",
       "      <td>NaN</td>\n",
       "      <td>NaN</td>\n",
       "      <td>NaN</td>\n",
       "      <td>NaN</td>\n",
       "      <td>NaN</td>\n",
       "      <td>NaN</td>\n",
       "      <td>NaN</td>\n",
       "      <td>NaN</td>\n",
       "    </tr>\n",
       "    <tr>\n",
       "      <th>4</th>\n",
       "      <td>Hanes Men's Work Socks, 6-Pack</td>\n",
       "      <td>6.71</td>\n",
       "      <td>6.71</td>\n",
       "      <td>2732</td>\n",
       "      <td>[74, 14, 6, 2, 4]</td>\n",
       "      <td>['Black', 'White']</td>\n",
       "      <td>COMFORT YOU DESERVE – Cushioned foot bottom fo...</td>\n",
       "      <td>51% Polyester, 42% Cotton, 4% Nylon, 3% Spandex</td>\n",
       "      <td>Machine Wash</td>\n",
       "      <td>Imported</td>\n",
       "      <td>...</td>\n",
       "      <td>NaN</td>\n",
       "      <td>NaN</td>\n",
       "      <td>NaN</td>\n",
       "      <td>NaN</td>\n",
       "      <td>NaN</td>\n",
       "      <td>NaN</td>\n",
       "      <td>NaN</td>\n",
       "      <td>NaN</td>\n",
       "      <td>NaN</td>\n",
       "      <td>NaN</td>\n",
       "    </tr>\n",
       "  </tbody>\n",
       "</table>\n",
       "<p>5 rows × 32 columns</p>\n",
       "</div>"
      ],
      "text/plain": [
       "                                               title  price_min  price_max  \\\n",
       "0  Dickies Genuine Men's 5-pair Crew Style Work S...       4.56       4.56   \n",
       "1     Nike Men`s Essential Micro Boxer Briefs 3 Pack      34.90      76.00   \n",
       "2  Carhartt Men's 100 percentage Cotton Midweight...      27.99      35.99   \n",
       "3  Alimens & Gentle Men's Dress Shirts French Cuf...      24.99      26.99   \n",
       "4                     Hanes Men's Work Socks, 6-Pack       6.71       6.71   \n",
       "\n",
       "   rating_total     rating_percent  \\\n",
       "0           279  [74, 14, 5, 3, 3]   \n",
       "1           726   [82, 8, 5, 1, 4]   \n",
       "2           245  [68, 18, 5, 4, 5]   \n",
       "3          3437  [66, 16, 8, 3, 8]   \n",
       "4          2732  [74, 14, 6, 2, 4]   \n",
       "\n",
       "                                            variants  \\\n",
       "0                                                 []   \n",
       "1  ['Black', 'Aquarius Blue/Laser Fuchia/Cool Gre...   \n",
       "2                  ['Black Heather', 'Heather Grey']   \n",
       "3  ['White', 'Black', 'Twilled Pink', 'Twilled Bl...   \n",
       "4                                 ['Black', 'White']   \n",
       "\n",
       "                                       product_about  \\\n",
       "0  Ventilated Breathing Channel - For air circula...   \n",
       "1  100% Cotton\\nMade in the USA or Imported\\nPull...   \n",
       "2  Waffle knit traps heat; smooth flatlock seams;...   \n",
       "3  Alimens & Gentle Design French Cuffs Shirt; Co...   \n",
       "4  COMFORT YOU DESERVE – Cushioned foot bottom fo...   \n",
       "\n",
       "                       product_details.Fabric type  \\\n",
       "0                                           Cotton   \n",
       "1                                      100% Cotton   \n",
       "2                                      100% Cotton   \n",
       "3                        60% Cotton, 40% Polyester   \n",
       "4  51% Polyester, 42% Cotton, 4% Nylon, 3% Spandex   \n",
       "\n",
       "  product_details.Care instructions       product_details.Origin  ...  \\\n",
       "0                      Machine Wash                          NaN  ...   \n",
       "1                      Machine Wash  Made in the USA or Imported  ...   \n",
       "2                      Machine Wash                     Imported  ...   \n",
       "3                      Machine Wash                     Imported  ...   \n",
       "4                      Machine Wash                     Imported  ...   \n",
       "\n",
       "  product_details.Sole material product_details.Water resistance level  \\\n",
       "0                           NaN                                    NaN   \n",
       "1                           NaN                                    NaN   \n",
       "2                           NaN                                    NaN   \n",
       "3                           NaN                                    NaN   \n",
       "4                           NaN                                    NaN   \n",
       "\n",
       "  product_details.Sleeve type product_details.Inseam  \\\n",
       "0                         NaN                    NaN   \n",
       "1                         NaN                    NaN   \n",
       "2                         NaN                    NaN   \n",
       "3                         NaN                    NaN   \n",
       "4                         NaN                    NaN   \n",
       "\n",
       "  product_details.Shaft height product_details.Pocket style  \\\n",
       "0                          NaN                          NaN   \n",
       "1                          NaN                          NaN   \n",
       "2                          NaN                          NaN   \n",
       "3                          NaN                          NaN   \n",
       "4                          NaN                          NaN   \n",
       "\n",
       "  product_details.Shaft circumference product_details.Inner material  \\\n",
       "0                                 NaN                            NaN   \n",
       "1                                 NaN                            NaN   \n",
       "2                                 NaN                            NaN   \n",
       "3                                 NaN                            NaN   \n",
       "4                                 NaN                            NaN   \n",
       "\n",
       "  product_details.Material product_details.Item type name  \n",
       "0                      NaN                            NaN  \n",
       "1                      NaN                            NaN  \n",
       "2                      NaN                            NaN  \n",
       "3                      NaN                            NaN  \n",
       "4                      NaN                            NaN  \n",
       "\n",
       "[5 rows x 32 columns]"
      ]
     },
     "execution_count": 105,
     "metadata": {},
     "output_type": "execute_result"
    }
   ],
   "source": [
    "# Read the train set\n",
    "train_df = pd.read_csv(\"../data/raw/train.csv\")\n",
    "\n",
    "# Inspect the train set\n",
    "train_df.head()"
   ]
  },
  {
   "cell_type": "markdown",
   "metadata": {},
   "source": [
    "### Data Cleaning"
   ]
  },
  {
   "cell_type": "markdown",
   "metadata": {},
   "source": [
    "#### Handle Missing Data"
   ]
  },
  {
   "cell_type": "code",
   "execution_count": 106,
   "metadata": {},
   "outputs": [
    {
     "data": {
      "text/plain": [
       "title                                       0.000000\n",
       "price_min                                   0.000000\n",
       "price_max                                   0.000000\n",
       "rating_total                                0.000000\n",
       "rating_percent                              2.558635\n",
       "variants                                    0.000000\n",
       "product_about                               1.359275\n",
       "product_details.Fabric type                 3.651386\n",
       "product_details.Care instructions           5.117271\n",
       "product_details.Origin                     13.486141\n",
       "product_details.Fit type                   96.855011\n",
       "product_details.Pattern                    86.833689\n",
       "product_details.Closure type               55.490405\n",
       "product_details.Rise style                 98.001066\n",
       "product_details.Weave type                 97.414712\n",
       "product_details.Country of Origin          92.190832\n",
       "product_details.Neck style                 95.495736\n",
       "product_details.Leg style                  99.546908\n",
       "product_details.Fur description            99.093817\n",
       "product_details.Outer material             99.706823\n",
       "product_details.Length                    100.000000\n",
       "product_details.Bottom style               99.760128\n",
       "product_details.Sole material              99.653518\n",
       "product_details.Water resistance level     99.973348\n",
       "product_details.Sleeve type                99.360341\n",
       "product_details.Inseam                     98.987207\n",
       "product_details.Shaft height               99.946695\n",
       "product_details.Pocket style               99.973348\n",
       "product_details.Shaft circumference        99.973348\n",
       "product_details.Inner material            100.000000\n",
       "product_details.Material                   99.973348\n",
       "product_details.Item type name             99.973348\n",
       "dtype: float64"
      ]
     },
     "execution_count": 106,
     "metadata": {},
     "output_type": "execute_result"
    }
   ],
   "source": [
    "# We will drop columns with more than 30% missing values.\n",
    "null_percents = train_df.isnull().sum() / len(train_df) * 100\n",
    "null_percents"
   ]
  },
  {
   "cell_type": "code",
   "execution_count": 107,
   "metadata": {},
   "outputs": [
    {
     "data": {
      "text/plain": [
       "['product_details.Fit type',\n",
       " 'product_details.Pattern',\n",
       " 'product_details.Closure type',\n",
       " 'product_details.Rise style',\n",
       " 'product_details.Weave type',\n",
       " 'product_details.Country of Origin',\n",
       " 'product_details.Neck style',\n",
       " 'product_details.Leg style',\n",
       " 'product_details.Fur description',\n",
       " 'product_details.Outer material',\n",
       " 'product_details.Length',\n",
       " 'product_details.Bottom style',\n",
       " 'product_details.Sole material',\n",
       " 'product_details.Water resistance level',\n",
       " 'product_details.Sleeve type',\n",
       " 'product_details.Inseam',\n",
       " 'product_details.Shaft height',\n",
       " 'product_details.Pocket style',\n",
       " 'product_details.Shaft circumference',\n",
       " 'product_details.Inner material',\n",
       " 'product_details.Material',\n",
       " 'product_details.Item type name']"
      ]
     },
     "execution_count": 107,
     "metadata": {},
     "output_type": "execute_result"
    }
   ],
   "source": [
    "drop_columns = [column for column in null_percents.index if null_percents[column] > 30]\n",
    "drop_columns"
   ]
  },
  {
   "cell_type": "markdown",
   "metadata": {},
   "source": [
    "- Later, when we deal with the test set, we also need to drop these columns to align with the train set."
   ]
  },
  {
   "cell_type": "code",
   "execution_count": 108,
   "metadata": {},
   "outputs": [
    {
     "data": {
      "text/html": [
       "<div>\n",
       "<style scoped>\n",
       "    .dataframe tbody tr th:only-of-type {\n",
       "        vertical-align: middle;\n",
       "    }\n",
       "\n",
       "    .dataframe tbody tr th {\n",
       "        vertical-align: top;\n",
       "    }\n",
       "\n",
       "    .dataframe thead th {\n",
       "        text-align: right;\n",
       "    }\n",
       "</style>\n",
       "<table border=\"1\" class=\"dataframe\">\n",
       "  <thead>\n",
       "    <tr style=\"text-align: right;\">\n",
       "      <th></th>\n",
       "      <th>title</th>\n",
       "      <th>price_min</th>\n",
       "      <th>price_max</th>\n",
       "      <th>rating_total</th>\n",
       "      <th>rating_percent</th>\n",
       "      <th>variants</th>\n",
       "      <th>product_about</th>\n",
       "      <th>product_details.Fabric type</th>\n",
       "      <th>product_details.Care instructions</th>\n",
       "      <th>product_details.Origin</th>\n",
       "    </tr>\n",
       "  </thead>\n",
       "  <tbody>\n",
       "    <tr>\n",
       "      <th>0</th>\n",
       "      <td>Dickies Genuine Men's 5-pair Crew Style Work S...</td>\n",
       "      <td>4.56</td>\n",
       "      <td>4.56</td>\n",
       "      <td>279</td>\n",
       "      <td>[74, 14, 5, 3, 3]</td>\n",
       "      <td>[]</td>\n",
       "      <td>Ventilated Breathing Channel - For air circula...</td>\n",
       "      <td>Cotton</td>\n",
       "      <td>Machine Wash</td>\n",
       "      <td>NaN</td>\n",
       "    </tr>\n",
       "    <tr>\n",
       "      <th>1</th>\n",
       "      <td>Nike Men`s Essential Micro Boxer Briefs 3 Pack</td>\n",
       "      <td>34.90</td>\n",
       "      <td>76.00</td>\n",
       "      <td>726</td>\n",
       "      <td>[82, 8, 5, 1, 4]</td>\n",
       "      <td>['Black', 'Aquarius Blue/Laser Fuchia/Cool Gre...</td>\n",
       "      <td>100% Cotton\\nMade in the USA or Imported\\nPull...</td>\n",
       "      <td>100% Cotton</td>\n",
       "      <td>Machine Wash</td>\n",
       "      <td>Made in the USA or Imported</td>\n",
       "    </tr>\n",
       "    <tr>\n",
       "      <th>2</th>\n",
       "      <td>Carhartt Men's 100 percentage Cotton Midweight...</td>\n",
       "      <td>27.99</td>\n",
       "      <td>35.99</td>\n",
       "      <td>245</td>\n",
       "      <td>[68, 18, 5, 4, 5]</td>\n",
       "      <td>['Black Heather', 'Heather Grey']</td>\n",
       "      <td>Waffle knit traps heat; smooth flatlock seams;...</td>\n",
       "      <td>100% Cotton</td>\n",
       "      <td>Machine Wash</td>\n",
       "      <td>Imported</td>\n",
       "    </tr>\n",
       "    <tr>\n",
       "      <th>3</th>\n",
       "      <td>Alimens &amp; Gentle Men's Dress Shirts French Cuf...</td>\n",
       "      <td>24.99</td>\n",
       "      <td>26.99</td>\n",
       "      <td>3437</td>\n",
       "      <td>[66, 16, 8, 3, 8]</td>\n",
       "      <td>['White', 'Black', 'Twilled Pink', 'Twilled Bl...</td>\n",
       "      <td>Alimens &amp; Gentle Design French Cuffs Shirt; Co...</td>\n",
       "      <td>60% Cotton, 40% Polyester</td>\n",
       "      <td>Machine Wash</td>\n",
       "      <td>Imported</td>\n",
       "    </tr>\n",
       "    <tr>\n",
       "      <th>4</th>\n",
       "      <td>Hanes Men's Work Socks, 6-Pack</td>\n",
       "      <td>6.71</td>\n",
       "      <td>6.71</td>\n",
       "      <td>2732</td>\n",
       "      <td>[74, 14, 6, 2, 4]</td>\n",
       "      <td>['Black', 'White']</td>\n",
       "      <td>COMFORT YOU DESERVE – Cushioned foot bottom fo...</td>\n",
       "      <td>51% Polyester, 42% Cotton, 4% Nylon, 3% Spandex</td>\n",
       "      <td>Machine Wash</td>\n",
       "      <td>Imported</td>\n",
       "    </tr>\n",
       "  </tbody>\n",
       "</table>\n",
       "</div>"
      ],
      "text/plain": [
       "                                               title  price_min  price_max  \\\n",
       "0  Dickies Genuine Men's 5-pair Crew Style Work S...       4.56       4.56   \n",
       "1     Nike Men`s Essential Micro Boxer Briefs 3 Pack      34.90      76.00   \n",
       "2  Carhartt Men's 100 percentage Cotton Midweight...      27.99      35.99   \n",
       "3  Alimens & Gentle Men's Dress Shirts French Cuf...      24.99      26.99   \n",
       "4                     Hanes Men's Work Socks, 6-Pack       6.71       6.71   \n",
       "\n",
       "   rating_total     rating_percent  \\\n",
       "0           279  [74, 14, 5, 3, 3]   \n",
       "1           726   [82, 8, 5, 1, 4]   \n",
       "2           245  [68, 18, 5, 4, 5]   \n",
       "3          3437  [66, 16, 8, 3, 8]   \n",
       "4          2732  [74, 14, 6, 2, 4]   \n",
       "\n",
       "                                            variants  \\\n",
       "0                                                 []   \n",
       "1  ['Black', 'Aquarius Blue/Laser Fuchia/Cool Gre...   \n",
       "2                  ['Black Heather', 'Heather Grey']   \n",
       "3  ['White', 'Black', 'Twilled Pink', 'Twilled Bl...   \n",
       "4                                 ['Black', 'White']   \n",
       "\n",
       "                                       product_about  \\\n",
       "0  Ventilated Breathing Channel - For air circula...   \n",
       "1  100% Cotton\\nMade in the USA or Imported\\nPull...   \n",
       "2  Waffle knit traps heat; smooth flatlock seams;...   \n",
       "3  Alimens & Gentle Design French Cuffs Shirt; Co...   \n",
       "4  COMFORT YOU DESERVE – Cushioned foot bottom fo...   \n",
       "\n",
       "                       product_details.Fabric type  \\\n",
       "0                                           Cotton   \n",
       "1                                      100% Cotton   \n",
       "2                                      100% Cotton   \n",
       "3                        60% Cotton, 40% Polyester   \n",
       "4  51% Polyester, 42% Cotton, 4% Nylon, 3% Spandex   \n",
       "\n",
       "  product_details.Care instructions       product_details.Origin  \n",
       "0                      Machine Wash                          NaN  \n",
       "1                      Machine Wash  Made in the USA or Imported  \n",
       "2                      Machine Wash                     Imported  \n",
       "3                      Machine Wash                     Imported  \n",
       "4                      Machine Wash                     Imported  "
      ]
     },
     "execution_count": 108,
     "metadata": {},
     "output_type": "execute_result"
    }
   ],
   "source": [
    "# Now, we will drop the columns with more than 30% missing values.\n",
    "train_df = train_df.drop(columns=drop_columns)\n",
    "train_df.head()"
   ]
  },
  {
   "cell_type": "code",
   "execution_count": 109,
   "metadata": {},
   "outputs": [
    {
     "name": "stdout",
     "output_type": "stream",
     "text": [
      "<class 'pandas.core.frame.DataFrame'>\n",
      "RangeIndex: 3752 entries, 0 to 3751\n",
      "Data columns (total 10 columns):\n",
      " #   Column                             Non-Null Count  Dtype  \n",
      "---  ------                             --------------  -----  \n",
      " 0   title                              3752 non-null   object \n",
      " 1   price_min                          3752 non-null   float64\n",
      " 2   price_max                          3752 non-null   float64\n",
      " 3   rating_total                       3752 non-null   int64  \n",
      " 4   rating_percent                     3656 non-null   object \n",
      " 5   variants                           3752 non-null   object \n",
      " 6   product_about                      3701 non-null   object \n",
      " 7   product_details.Fabric type        3615 non-null   object \n",
      " 8   product_details.Care instructions  3560 non-null   object \n",
      " 9   product_details.Origin             3246 non-null   object \n",
      "dtypes: float64(2), int64(1), object(7)\n",
      "memory usage: 293.2+ KB\n"
     ]
    }
   ],
   "source": [
    "train_df.info()"
   ]
  },
  {
   "cell_type": "markdown",
   "metadata": {},
   "source": [
    "- We need to admit that there are features/variables we cannot impute, those are:\n",
    "  - `rating_percent`\n",
    "  - `product_about`\n",
    "  - `product_details.Fabric type`\n",
    "  - `product_details.Care instructions`\n",
    "  - `product_details.Origin`\n",
    "- We need to decide whether to drop rows missing these feature or fill them with `\"unknown\"` (for categorical variable) or 0 (for numerical variable). At this point, we choose not to drop any rows but fill them instead."
   ]
  },
  {
   "cell_type": "markdown",
   "metadata": {},
   "source": [
    "##### Rating percent"
   ]
  },
  {
   "cell_type": "code",
   "execution_count": 110,
   "metadata": {},
   "outputs": [
    {
     "data": {
      "text/plain": [
       "96"
      ]
     },
     "execution_count": 110,
     "metadata": {},
     "output_type": "execute_result"
    }
   ],
   "source": [
    "# Check for missing values on \"rating_percent\" column\n",
    "train_df['rating_percent'].isnull().sum()"
   ]
  },
  {
   "cell_type": "code",
   "execution_count": 111,
   "metadata": {},
   "outputs": [
    {
     "data": {
      "text/plain": [
       "0       [74, 14, 5, 3, 3]\n",
       "1        [82, 8, 5, 1, 4]\n",
       "2       [68, 18, 5, 4, 5]\n",
       "3       [66, 16, 8, 3, 8]\n",
       "4       [74, 14, 6, 2, 4]\n",
       "              ...        \n",
       "3747    [71, 15, 7, 3, 4]\n",
       "3748    [72, 13, 6, 3, 5]\n",
       "3749     [77, 9, 5, 4, 5]\n",
       "3750     [81, 7, 6, 2, 4]\n",
       "3751    [77, 10, 6, 2, 7]\n",
       "Name: rating_percent, Length: 3752, dtype: object"
      ]
     },
     "execution_count": 111,
     "metadata": {},
     "output_type": "execute_result"
    }
   ],
   "source": [
    "# Convert 'rating_percent' from string like \"[[76, 12, 7, 2, 3]]\"\" to list of integers\n",
    "def convert_rating_percent(x) -> list:\n",
    "    # If x is not string, return an empty list\n",
    "    if not isinstance(x, str):\n",
    "        return []\n",
    "\n",
    "    x = x.replace('None', '0')\n",
    "    x = x.strip('[]').split(', ')\n",
    "    result = list(map(int, x))\n",
    "    \n",
    "    return result\n",
    "\n",
    "train_df['rating_percent'] = train_df['rating_percent'].apply(convert_rating_percent)\n",
    "train_df['rating_percent']"
   ]
  },
  {
   "cell_type": "markdown",
   "metadata": {},
   "source": [
    "- By observing the result of the cell above, we can see that the last row (the `3751`th row) has its sum not to be `100`, which is illogical because the total percentage of all type of ratings (from `1` to `5`) must be `100%`. So, we can feel that there'r something weird about the values of this `rating_percent` column; thereby needing to investigate. We will calculate the sum of each rows in this column and inspect the unique sums resulted."
   ]
  },
  {
   "cell_type": "code",
   "execution_count": 112,
   "metadata": {},
   "outputs": [
    {
     "data": {
      "text/plain": [
       "rating_percent\n",
       "100    2267\n",
       "99      729\n",
       "101     644\n",
       "0        96\n",
       "102       9\n",
       "98        7\n",
       "Name: count, dtype: int64"
      ]
     },
     "execution_count": 112,
     "metadata": {},
     "output_type": "execute_result"
    }
   ],
   "source": [
    "train_df['rating_percent'].apply(lambda x: sum(x)).value_counts()"
   ]
  },
  {
   "cell_type": "markdown",
   "metadata": {},
   "source": [
    "- We admit that the amount of errorneous values are huge and therefore dropping all of them can cause a unacceptable loss of information. So, we need to find out a way to scale each values of the column to make their sum become 100 without significantly changing the actual meaning of them."
   ]
  },
  {
   "cell_type": "code",
   "execution_count": 113,
   "metadata": {},
   "outputs": [],
   "source": [
    "def scale_rating_percent(rating_percent: list[int]) -> list[int]:\n",
    "    \"\"\"\n",
    "    This function scales the rating_percent list to make its sum to be 100.\n",
    "    \"\"\"\n",
    "    \n",
    "    if len(rating_percent) == 0:\n",
    "        return rating_percent\n",
    "    \n",
    "    current_sum = sum(rating_percent)\n",
    "    \n",
    "    if current_sum == 100:\n",
    "        return rating_percent\n",
    "    \n",
    "    values_to_distribute = 100 - current_sum # This can be positive or negative.\n",
    "    \n",
    "    unit = 1 if values_to_distribute > 0 else -1\n",
    "    \n",
    "    for i in range(abs(values_to_distribute)):\n",
    "        # Add unit to a random position in rating_percent\n",
    "        rating_percent[np.random.randint(5)] += unit\n",
    "    \n",
    "    return rating_percent"
   ]
  },
  {
   "cell_type": "code",
   "execution_count": 114,
   "metadata": {},
   "outputs": [
    {
     "data": {
      "text/plain": [
       "100"
      ]
     },
     "execution_count": 114,
     "metadata": {},
     "output_type": "execute_result"
    }
   ],
   "source": [
    "# Let's test the function above with an errorneous list\n",
    "errorneous_list = [77, 10, 6, 2, 7]\n",
    "sum(scale_rating_percent(errorneous_list))"
   ]
  },
  {
   "cell_type": "markdown",
   "metadata": {},
   "source": [
    "- Okay it's worked. Now we apply this function on the `rating_percent` column."
   ]
  },
  {
   "cell_type": "code",
   "execution_count": 115,
   "metadata": {},
   "outputs": [
    {
     "data": {
      "text/plain": [
       "rating_percent\n",
       "100    3656\n",
       "0        96\n",
       "Name: count, dtype: int64"
      ]
     },
     "execution_count": 115,
     "metadata": {},
     "output_type": "execute_result"
    }
   ],
   "source": [
    "train_df['rating_percent'] = train_df['rating_percent'].apply(scale_rating_percent)\n",
    "train_df['rating_percent'].apply(lambda x: sum(x)).value_counts()"
   ]
  },
  {
   "cell_type": "code",
   "execution_count": 116,
   "metadata": {},
   "outputs": [],
   "source": [
    "def calc_weighted_rating(rating_percent) -> np.float64:\n",
    "    if len(rating_percent) != 5:\n",
    "        return np.nan\n",
    "    \n",
    "    rating_percent = np.array(rating_percent.copy()) / 100\n",
    "    rating_scale = [5, 4, 3, 2, 1]\n",
    "    \n",
    "    return np.dot(rating_percent, rating_scale)"
   ]
  },
  {
   "cell_type": "code",
   "execution_count": 117,
   "metadata": {},
   "outputs": [
    {
     "data": {
      "text/plain": [
       "0    4.51\n",
       "1    4.63\n",
       "2    4.40\n",
       "3    4.27\n",
       "4    4.52\n",
       "Name: weighted_rating, dtype: float64"
      ]
     },
     "execution_count": 117,
     "metadata": {},
     "output_type": "execute_result"
    }
   ],
   "source": [
    "train_df['weighted_rating'] = train_df['rating_percent'].apply(func=calc_weighted_rating)\n",
    "train_df['weighted_rating'].head()"
   ]
  },
  {
   "cell_type": "code",
   "execution_count": 118,
   "metadata": {},
   "outputs": [
    {
     "data": {
      "text/html": [
       "<div>\n",
       "<style scoped>\n",
       "    .dataframe tbody tr th:only-of-type {\n",
       "        vertical-align: middle;\n",
       "    }\n",
       "\n",
       "    .dataframe tbody tr th {\n",
       "        vertical-align: top;\n",
       "    }\n",
       "\n",
       "    .dataframe thead th {\n",
       "        text-align: right;\n",
       "    }\n",
       "</style>\n",
       "<table border=\"1\" class=\"dataframe\">\n",
       "  <thead>\n",
       "    <tr style=\"text-align: right;\">\n",
       "      <th></th>\n",
       "      <th>title</th>\n",
       "      <th>price_min</th>\n",
       "      <th>price_max</th>\n",
       "      <th>rating_total</th>\n",
       "      <th>variants</th>\n",
       "      <th>product_about</th>\n",
       "      <th>product_details.Fabric type</th>\n",
       "      <th>product_details.Care instructions</th>\n",
       "      <th>product_details.Origin</th>\n",
       "      <th>weighted_rating</th>\n",
       "    </tr>\n",
       "  </thead>\n",
       "  <tbody>\n",
       "    <tr>\n",
       "      <th>0</th>\n",
       "      <td>Dickies Genuine Men's 5-pair Crew Style Work S...</td>\n",
       "      <td>4.56</td>\n",
       "      <td>4.56</td>\n",
       "      <td>279</td>\n",
       "      <td>[]</td>\n",
       "      <td>Ventilated Breathing Channel - For air circula...</td>\n",
       "      <td>Cotton</td>\n",
       "      <td>Machine Wash</td>\n",
       "      <td>NaN</td>\n",
       "      <td>4.51</td>\n",
       "    </tr>\n",
       "    <tr>\n",
       "      <th>1</th>\n",
       "      <td>Nike Men`s Essential Micro Boxer Briefs 3 Pack</td>\n",
       "      <td>34.90</td>\n",
       "      <td>76.00</td>\n",
       "      <td>726</td>\n",
       "      <td>['Black', 'Aquarius Blue/Laser Fuchia/Cool Gre...</td>\n",
       "      <td>100% Cotton\\nMade in the USA or Imported\\nPull...</td>\n",
       "      <td>100% Cotton</td>\n",
       "      <td>Machine Wash</td>\n",
       "      <td>Made in the USA or Imported</td>\n",
       "      <td>4.63</td>\n",
       "    </tr>\n",
       "    <tr>\n",
       "      <th>2</th>\n",
       "      <td>Carhartt Men's 100 percentage Cotton Midweight...</td>\n",
       "      <td>27.99</td>\n",
       "      <td>35.99</td>\n",
       "      <td>245</td>\n",
       "      <td>['Black Heather', 'Heather Grey']</td>\n",
       "      <td>Waffle knit traps heat; smooth flatlock seams;...</td>\n",
       "      <td>100% Cotton</td>\n",
       "      <td>Machine Wash</td>\n",
       "      <td>Imported</td>\n",
       "      <td>4.40</td>\n",
       "    </tr>\n",
       "    <tr>\n",
       "      <th>3</th>\n",
       "      <td>Alimens &amp; Gentle Men's Dress Shirts French Cuf...</td>\n",
       "      <td>24.99</td>\n",
       "      <td>26.99</td>\n",
       "      <td>3437</td>\n",
       "      <td>['White', 'Black', 'Twilled Pink', 'Twilled Bl...</td>\n",
       "      <td>Alimens &amp; Gentle Design French Cuffs Shirt; Co...</td>\n",
       "      <td>60% Cotton, 40% Polyester</td>\n",
       "      <td>Machine Wash</td>\n",
       "      <td>Imported</td>\n",
       "      <td>4.27</td>\n",
       "    </tr>\n",
       "    <tr>\n",
       "      <th>4</th>\n",
       "      <td>Hanes Men's Work Socks, 6-Pack</td>\n",
       "      <td>6.71</td>\n",
       "      <td>6.71</td>\n",
       "      <td>2732</td>\n",
       "      <td>['Black', 'White']</td>\n",
       "      <td>COMFORT YOU DESERVE – Cushioned foot bottom fo...</td>\n",
       "      <td>51% Polyester, 42% Cotton, 4% Nylon, 3% Spandex</td>\n",
       "      <td>Machine Wash</td>\n",
       "      <td>Imported</td>\n",
       "      <td>4.52</td>\n",
       "    </tr>\n",
       "  </tbody>\n",
       "</table>\n",
       "</div>"
      ],
      "text/plain": [
       "                                               title  price_min  price_max  \\\n",
       "0  Dickies Genuine Men's 5-pair Crew Style Work S...       4.56       4.56   \n",
       "1     Nike Men`s Essential Micro Boxer Briefs 3 Pack      34.90      76.00   \n",
       "2  Carhartt Men's 100 percentage Cotton Midweight...      27.99      35.99   \n",
       "3  Alimens & Gentle Men's Dress Shirts French Cuf...      24.99      26.99   \n",
       "4                     Hanes Men's Work Socks, 6-Pack       6.71       6.71   \n",
       "\n",
       "   rating_total                                           variants  \\\n",
       "0           279                                                 []   \n",
       "1           726  ['Black', 'Aquarius Blue/Laser Fuchia/Cool Gre...   \n",
       "2           245                  ['Black Heather', 'Heather Grey']   \n",
       "3          3437  ['White', 'Black', 'Twilled Pink', 'Twilled Bl...   \n",
       "4          2732                                 ['Black', 'White']   \n",
       "\n",
       "                                       product_about  \\\n",
       "0  Ventilated Breathing Channel - For air circula...   \n",
       "1  100% Cotton\\nMade in the USA or Imported\\nPull...   \n",
       "2  Waffle knit traps heat; smooth flatlock seams;...   \n",
       "3  Alimens & Gentle Design French Cuffs Shirt; Co...   \n",
       "4  COMFORT YOU DESERVE – Cushioned foot bottom fo...   \n",
       "\n",
       "                       product_details.Fabric type  \\\n",
       "0                                           Cotton   \n",
       "1                                      100% Cotton   \n",
       "2                                      100% Cotton   \n",
       "3                        60% Cotton, 40% Polyester   \n",
       "4  51% Polyester, 42% Cotton, 4% Nylon, 3% Spandex   \n",
       "\n",
       "  product_details.Care instructions       product_details.Origin  \\\n",
       "0                      Machine Wash                          NaN   \n",
       "1                      Machine Wash  Made in the USA or Imported   \n",
       "2                      Machine Wash                     Imported   \n",
       "3                      Machine Wash                     Imported   \n",
       "4                      Machine Wash                     Imported   \n",
       "\n",
       "   weighted_rating  \n",
       "0             4.51  \n",
       "1             4.63  \n",
       "2             4.40  \n",
       "3             4.27  \n",
       "4             4.52  "
      ]
     },
     "execution_count": 118,
     "metadata": {},
     "output_type": "execute_result"
    }
   ],
   "source": [
    "train_df.drop(columns=['rating_percent'], inplace=True)\n",
    "train_df.head()"
   ]
  },
  {
   "cell_type": "code",
   "execution_count": 119,
   "metadata": {},
   "outputs": [
    {
     "name": "stdout",
     "output_type": "stream",
     "text": [
      "<class 'pandas.core.frame.DataFrame'>\n",
      "RangeIndex: 3752 entries, 0 to 3751\n",
      "Data columns (total 10 columns):\n",
      " #   Column                             Non-Null Count  Dtype  \n",
      "---  ------                             --------------  -----  \n",
      " 0   title                              3752 non-null   object \n",
      " 1   price_min                          3752 non-null   float64\n",
      " 2   price_max                          3752 non-null   float64\n",
      " 3   rating_total                       3752 non-null   int64  \n",
      " 4   variants                           3752 non-null   object \n",
      " 5   product_about                      3701 non-null   object \n",
      " 6   product_details.Fabric type        3615 non-null   object \n",
      " 7   product_details.Care instructions  3560 non-null   object \n",
      " 8   product_details.Origin             3246 non-null   object \n",
      " 9   weighted_rating                    3652 non-null   float64\n",
      "dtypes: float64(3), int64(1), object(6)\n",
      "memory usage: 293.2+ KB\n"
     ]
    }
   ],
   "source": [
    "train_df.info()"
   ]
  },
  {
   "cell_type": "markdown",
   "metadata": {},
   "source": [
    "##### Product about, Fabric type, Care instructions and Origin"
   ]
  },
  {
   "cell_type": "code",
   "execution_count": 120,
   "metadata": {},
   "outputs": [],
   "source": [
    "# Fill missing value of `product_about` with empty string\n",
    "train_df['product_about'] = train_df['product_about'].fillna('')\n",
    "\n",
    "# Fill missing value of `product_details.Fabric type`, `product_details.Care instructions`,\n",
    "# and `product_details.Origin` with \"Unknown\"\n",
    "train_df['product_details.Fabric type'] = train_df['product_details.Fabric type'].fillna('unknown')\n",
    "train_df['product_details.Care instructions'] = train_df['product_details.Care instructions'].fillna('unknown')\n",
    "train_df['product_details.Origin'] = train_df['product_details.Origin'].fillna('unknown')"
   ]
  },
  {
   "cell_type": "code",
   "execution_count": 121,
   "metadata": {},
   "outputs": [
    {
     "name": "stdout",
     "output_type": "stream",
     "text": [
      "<class 'pandas.core.frame.DataFrame'>\n",
      "RangeIndex: 3752 entries, 0 to 3751\n",
      "Data columns (total 10 columns):\n",
      " #   Column                             Non-Null Count  Dtype  \n",
      "---  ------                             --------------  -----  \n",
      " 0   title                              3752 non-null   object \n",
      " 1   price_min                          3752 non-null   float64\n",
      " 2   price_max                          3752 non-null   float64\n",
      " 3   rating_total                       3752 non-null   int64  \n",
      " 4   variants                           3752 non-null   object \n",
      " 5   product_about                      3752 non-null   object \n",
      " 6   product_details.Fabric type        3752 non-null   object \n",
      " 7   product_details.Care instructions  3752 non-null   object \n",
      " 8   product_details.Origin             3752 non-null   object \n",
      " 9   weighted_rating                    3652 non-null   float64\n",
      "dtypes: float64(3), int64(1), object(6)\n",
      "memory usage: 293.2+ KB\n"
     ]
    }
   ],
   "source": [
    "train_df.info()"
   ]
  },
  {
   "cell_type": "markdown",
   "metadata": {},
   "source": [
    "#### Encode Categorical Variables"
   ]
  },
  {
   "cell_type": "markdown",
   "metadata": {},
   "source": [
    "- As far as we've learned, we think it will be the best to encode categorical variables before stepping into any imputation or removal tasks."
   ]
  },
  {
   "cell_type": "code",
   "execution_count": 122,
   "metadata": {},
   "outputs": [
    {
     "data": {
      "text/plain": [
       "title                                3714\n",
       "price_min                            1381\n",
       "price_max                            1189\n",
       "rating_total                         2287\n",
       "variants                             3049\n",
       "product_about                        3487\n",
       "product_details.Fabric type          1270\n",
       "product_details.Care instructions     197\n",
       "product_details.Origin                 58\n",
       "weighted_rating                       331\n",
       "dtype: int64"
      ]
     },
     "execution_count": 122,
     "metadata": {},
     "output_type": "execute_result"
    }
   ],
   "source": [
    "# Count unique values of each column\n",
    "unique_values = train_df.nunique()\n",
    "unique_values"
   ]
  },
  {
   "cell_type": "markdown",
   "metadata": {},
   "source": [
    "#### Imputation and Removal"
   ]
  },
  {
   "cell_type": "markdown",
   "metadata": {},
   "source": [
    "- In this sub-step of imputation and removal, we only need to impute the missing values of the `weighted_rating` column."
   ]
  },
  {
   "cell_type": "code",
   "execution_count": null,
   "metadata": {},
   "outputs": [],
   "source": [
    "knn_imputer = KNNImputer()"
   ]
  },
  {
   "cell_type": "markdown",
   "metadata": {},
   "source": [
    "#### Handle Duplicates"
   ]
  },
  {
   "cell_type": "code",
   "execution_count": null,
   "metadata": {},
   "outputs": [],
   "source": [
    "# Identify duplicate rows\n",
    "duplicates = train_df.duplicated()\n",
    "duplicates.sum()"
   ]
  },
  {
   "cell_type": "code",
   "execution_count": null,
   "metadata": {},
   "outputs": [],
   "source": [
    "# Remove duplicate rows\n",
    "train_df = train_df.drop_duplicates()\n",
    "train_df.shape"
   ]
  },
  {
   "cell_type": "code",
   "execution_count": null,
   "metadata": {},
   "outputs": [],
   "source": [
    "train_df.head()"
   ]
  },
  {
   "cell_type": "markdown",
   "metadata": {},
   "source": [
    "#### Package Data Cleaning Step into a Function"
   ]
  },
  {
   "cell_type": "markdown",
   "metadata": {},
   "source": [
    "### Data Transformation"
   ]
  },
  {
   "cell_type": "markdown",
   "metadata": {},
   "source": [
    "#### Handle Outliers"
   ]
  },
  {
   "cell_type": "code",
   "execution_count": null,
   "metadata": {},
   "outputs": [],
   "source": [
    "train_df.head()"
   ]
  },
  {
   "cell_type": "code",
   "execution_count": 105,
   "metadata": {},
   "outputs": [],
   "source": [
    "# Function to draw boxplot given column name\n",
    "def draw_boxplot(df, column_name):\n",
    "    plt.figure(figsize=(10, 5))\n",
    "    plt.boxplot(df[column_name], vert=False)\n",
    "    plt.title(f'Boxplot of {column_name}')\n",
    "    plt.show()"
   ]
  },
  {
   "cell_type": "code",
   "execution_count": null,
   "metadata": {},
   "outputs": [],
   "source": [
    "# Draw boxplot for \"Price min\"\n",
    "draw_boxplot(train_df, 'Price min')"
   ]
  },
  {
   "cell_type": "code",
   "execution_count": null,
   "metadata": {},
   "outputs": [],
   "source": [
    "# Draw boxplot for \"Price max\"\n",
    "draw_boxplot(train_df, 'Price max')"
   ]
  },
  {
   "cell_type": "code",
   "execution_count": null,
   "metadata": {},
   "outputs": [],
   "source": [
    "# Draw boxplot for \"Rating total\"\n",
    "draw_boxplot(train_df, 'Rating total')"
   ]
  },
  {
   "cell_type": "code",
   "execution_count": null,
   "metadata": {},
   "outputs": [],
   "source": [
    "# Iterate over the numerical columns\n",
    "numerical_columns = [\"Price min\", \"Price max\", \"Rating total\", \"Weighted rating\"]\n",
    "for column in numerical_columns:\n",
    "    # Calculate IQR\n",
    "    Q1 = train_df[column].quantile(0.25)\n",
    "    Q3 = train_df[column].quantile(0.75)\n",
    "    IQR = Q3 - Q1\n",
    "    \n",
    "    # Calculate the lower and upper bounds\n",
    "    lower_bound = Q1 - 1.5 * IQR\n",
    "    upper_bound = Q3 + 1.5 * IQR\n",
    "    \n",
    "    # Remove rows with outliers\n",
    "    train_df = train_df[(train_df[column] >= lower_bound) & (train_df[column] <= upper_bound)]\n",
    "    \n",
    "    # Draw boxplot\n",
    "    draw_boxplot(train_df, column)"
   ]
  },
  {
   "cell_type": "markdown",
   "metadata": {},
   "source": [
    "#### Scale and Normalize Data"
   ]
  },
  {
   "cell_type": "code",
   "execution_count": null,
   "metadata": {},
   "outputs": [],
   "source": [
    "# Create a StandardScaler object\n",
    "scaler = StandardScaler()\n",
    "\n",
    "# Fit the scaler on the numerical columns of the train data\n",
    "scaler.fit(train_df[numerical_columns])\n",
    "\n",
    "# Transform the numerical columns of the train data\n",
    "numerical_columns_scaled = pd.DataFrame(scaler.transform(train_df[numerical_columns]), columns=numerical_columns)\n",
    "numerical_columns_scaled.describe()"
   ]
  },
  {
   "cell_type": "code",
   "execution_count": null,
   "metadata": {},
   "outputs": [],
   "source": [
    "# Replace the numerical columns with the scaled values\n",
    "train_df[numerical_columns] = numerical_columns_scaled\n",
    "train_df[numerical_columns].describe()"
   ]
  },
  {
   "cell_type": "markdown",
   "metadata": {},
   "source": [
    "### Feature Engineering"
   ]
  },
  {
   "cell_type": "code",
   "execution_count": 126,
   "metadata": {},
   "outputs": [
    {
     "data": {
      "text/plain": [
       "product_details.Care instructions\n",
       "Machine Wash                                                                                           2740\n",
       "Hand Wash Only                                                                                          344\n",
       "unknown                                                                                                 192\n",
       "Dry Clean Only                                                                                           75\n",
       "Machine Wash Warm, Tumble Dry                                                                            53\n",
       "                                                                                                       ... \n",
       "Easy to wash - Machine wash cold, lay flat to dry or tumble on air/lowest setting. Do not use heat.       1\n",
       "Machine and hand washable                                                                                 1\n",
       "Machine Wash with cold water, Tumble Dry low, Low Iron if needed                                          1\n",
       "Hand Wash & Machine Wash                                                                                  1\n",
       "Dry Clean, Machine Wash, Lay Flat to Dry                                                                  1\n",
       "Name: count, Length: 197, dtype: int64"
      ]
     },
     "execution_count": 126,
     "metadata": {},
     "output_type": "execute_result"
    }
   ],
   "source": [
    "train_df['product_details.Care instructions'].value_counts()"
   ]
  },
  {
   "cell_type": "markdown",
   "metadata": {},
   "source": [
    "- Next, we need to find ways to do feature engineering on the 3 columns: `Variants`, `Product about` and `Fabric type`.\n",
    "  - For `Variants`, we will do these tasks:\n",
    "    - Calculate `Number of variants`: Number of variants of the product\n",
    "    - Calculate `Average variant length`: The average number of characters used to write a variant of the product\n",
    "    - Calculate TF-IDF matrix\n",
    "    - Perform Truncated SVD on the TF-IDF matrix to reduce it size\n",
    "  - For `Product about` and `Fabric type`, we will do these tasks:\n",
    "    - Calculate TF-IDF matrix\n",
    "    - Perform Truncated SVD on the TF-IDF matrix to reduce it size"
   ]
  },
  {
   "cell_type": "code",
   "execution_count": 127,
   "metadata": {},
   "outputs": [
    {
     "data": {
      "text/plain": [
       "0    Ventilated Breathing Channel - For air circula...\n",
       "1    100% Cotton\\nMade in the USA or Imported\\nPull...\n",
       "2    Waffle knit traps heat; smooth flatlock seams;...\n",
       "3    Alimens & Gentle Design French Cuffs Shirt; Co...\n",
       "4    COMFORT YOU DESERVE – Cushioned foot bottom fo...\n",
       "Name: product_about, dtype: object"
      ]
     },
     "execution_count": 127,
     "metadata": {},
     "output_type": "execute_result"
    }
   ],
   "source": [
    "train_df['product_about'].head()"
   ]
  },
  {
   "attachments": {
    "image.png": {
     "image/png": "[encoded data removed]"
    }
   },
   "cell_type": "markdown",
   "metadata": {},
   "source": [
    "![image.png](attachment:image.png)"
   ]
  },
  {
   "cell_type": "markdown",
   "metadata": {},
   "source": [
    "- By observing the plot, we see that from around 2500, the curve starts to flatten out. Therefore, we should set the number of components to 2500."
   ]
  },
  {
   "cell_type": "code",
   "execution_count": 125,
   "metadata": {},
   "outputs": [],
   "source": [
    "# # Re-performing SVD with 2500 components\n",
    "# train_variants_svd = TruncatedSVD(n_components=2500, random_state=42)\n",
    "# train_variants_svd.fit(train_variants_tfidf_matrix)\n",
    "\n",
    "# # Save the train_variants_svd\n",
    "# joblib.dump(train_variants_svd, \"../models/train_variants_svd.pkl\")"
   ]
  },
  {
   "cell_type": "code",
   "execution_count": 126,
   "metadata": {},
   "outputs": [],
   "source": [
    "# # Load the train_variants_svd\n",
    "# train_variants_svd = joblib.load(\"../models/train_variants_svd.pkl\")\n",
    "\n",
    "# train_variants_svd_matrix = train_variants_svd.transform(train_variants_tfidf_matrix)\n",
    "# train_variants_svd_df = pd.DataFrame(data=train_variants_svd_matrix)\n",
    "# train_variants_svd_df.head()"
   ]
  },
  {
   "cell_type": "code",
   "execution_count": 127,
   "metadata": {},
   "outputs": [],
   "source": [
    "# # Save the train_variants_svd_df\n",
    "# train_variants_svd_df.to_csv(\"../data/processed/train_variants_svd_df.csv\", index=False)"
   ]
  },
  {
   "cell_type": "code",
   "execution_count": 128,
   "metadata": {},
   "outputs": [],
   "source": [
    "# # Replace np.nan on \"Product about\" with an empty string\n",
    "# train_df['Product about'] = train_df['Product about'].replace(np.nan, '')"
   ]
  },
  {
   "cell_type": "code",
   "execution_count": 129,
   "metadata": {},
   "outputs": [],
   "source": [
    "# # Create another vectorizer and SVD object for the \"Product about\" column\n",
    "# train_product_about_vectorizer = TfidfVectorizer(stop_words=\"english\", ngram_range=(1,2))\n",
    "# train_product_about_vectorizer.fit(train_df[\"Product about\"])\n",
    "\n",
    "# # Save the train_product_about_vectorizer\n",
    "# joblib.dump(train_product_about_vectorizer, \"../models/train_product_about_vectorizer.pkl\")\n",
    "\n",
    "# # Load the train_product_about_vectorizer\n",
    "# train_product_about_vectorizer = joblib.load(\"../models/train_product_about_vectorizer.pkl\")\n",
    "\n",
    "# # Calculate the TF-IDF matrix for the \"Product about\" column\n",
    "# train_product_about_tfidf_matrix = train_product_about_vectorizer.transform(train_df[\"Product about\"])\n",
    "\n",
    "# # Create a TruncatedSVD object\n",
    "# train_product_about_svd = TruncatedSVD(n_components=5000, random_state=42)\n",
    "\n",
    "# # Fit the TruncatedSVD object on the TF-IDF matrix of the \"Product about\" column\n",
    "# train_product_about_svd.fit(train_product_about_tfidf_matrix)\n",
    "\n",
    "# # Transform the TF-IDF matrix of the \"Product about\" column\n",
    "# train_product_about_svd_matrix = train_product_about_svd.transform(train_product_about_tfidf_matrix)\n",
    "\n",
    "# # Visualize the variance of the SVD components\n",
    "# plot_variance(train_product_about_svd)"
   ]
  },
  {
   "attachments": {
    "image.png": {
     "image/png": "[encoded data removed]"
    }
   },
   "cell_type": "markdown",
   "metadata": {},
   "source": [
    "![image.png](attachment:image.png)"
   ]
  },
  {
   "cell_type": "markdown",
   "metadata": {},
   "source": [
    "- By observing the plot, we see that from around 3000, the curve starts to flatten out. Therefore, we should set the number of components to 3000."
   ]
  },
  {
   "cell_type": "code",
   "execution_count": 130,
   "metadata": {},
   "outputs": [],
   "source": [
    "# # Re-performing SVD with 3000 components\n",
    "# train_product_about_svd = TruncatedSVD(n_components=3000, random_state=42)\n",
    "# train_product_about_svd.fit(train_product_about_tfidf_matrix)\n",
    "\n",
    "# # Save the train_product_about_svd\n",
    "# joblib.dump(train_product_about_svd, \"../models/train_product_about_svd.pkl\")"
   ]
  },
  {
   "cell_type": "code",
   "execution_count": 131,
   "metadata": {},
   "outputs": [],
   "source": [
    "# # Load the train_product_about_svd\n",
    "# train_product_about_svd = joblib.load(\"../models/train_product_about_svd.pkl\")\n",
    "\n",
    "# # Transform the TF-IDF matrix of the \"Product about\" column\n",
    "# train_product_about_svd_matrix = train_product_about_svd.transform(train_product_about_tfidf_matrix)\n",
    "\n",
    "# # Create a DataFrame from the TruncatedSVD matrix\n",
    "# train_product_about_svd_df = pd.DataFrame(data=train_product_about_svd_matrix)\n",
    "# train_product_about_svd_df.head()\n",
    "\n",
    "# # Save the train_product_about_svd_df\n",
    "# train_product_about_svd_df.to_csv(\"../data/processed/train_product_about_svd_df.csv\", index=False)"
   ]
  },
  {
   "cell_type": "code",
   "execution_count": 132,
   "metadata": {},
   "outputs": [],
   "source": [
    "# # Create TfIdfVectorizer object which will calculate the TF-IDF matrix\n",
    "# train_fabric_type_vectorizer = TfidfVectorizer(stop_words=\"english\", ngram_range=(1,2))\n",
    "# train_fabric_type_vectorizer.fit(train_df['Fabric type'])\n",
    "\n",
    "# # Save the train_fabric_type_vectorizer\n",
    "# joblib.dump(train_fabric_type_vectorizer, '../models/train_fabric_type_vectorizer.pkl')"
   ]
  },
  {
   "cell_type": "code",
   "execution_count": 133,
   "metadata": {},
   "outputs": [],
   "source": [
    "# # Load the train_fabric_type_vectorizer\n",
    "# train_fabric_type_vectorizer = joblib.load('../models/train_fabric_type_vectorizer.pkl')\n",
    "\n",
    "# # Calculate the TF-IDF matrix for the \"Fabric type\" column\n",
    "# train_fabric_type_tfidf_matrix = train_fabric_type_vectorizer.transform(train_df['Fabric type'])\n",
    "# train_fabric_type_tfidf_matrix"
   ]
  },
  {
   "cell_type": "code",
   "execution_count": 134,
   "metadata": {},
   "outputs": [],
   "source": [
    "# # Create a TruncatedSVD object\n",
    "# train_fabric_type_svd = TruncatedSVD(n_components=1000, random_state=42)\n",
    "\n",
    "# # Fit the TruncatedSVD object on the TF-IDF matrix of the \"Fabric type\" column\n",
    "# train_fabric_type_svd.fit(train_fabric_type_tfidf_matrix)\n",
    "\n",
    "# # Save the train_fabric_type_svd\n",
    "# joblib.dump(train_fabric_type_svd, '../models/train_fabric_type_svd.pkl')"
   ]
  },
  {
   "cell_type": "code",
   "execution_count": 135,
   "metadata": {},
   "outputs": [],
   "source": [
    "# # Load the train_fabric_type_svd\n",
    "# train_fabric_type_svd = joblib.load('../models/train_fabric_type_svd.pkl')\n",
    "\n",
    "# # Transform the TF-IDF matrix of the \"Fabric type\" column\n",
    "# train_fabric_type_svd_matrix = train_fabric_type_svd.transform(train_fabric_type_tfidf_matrix)\n",
    "\n",
    "# # Visualize the variance of the SVD components\n",
    "# plot_variance(train_fabric_type_svd)"
   ]
  },
  {
   "attachments": {
    "image.png": {
     "image/png": "[encoded data removed]"
    }
   },
   "cell_type": "markdown",
   "metadata": {},
   "source": [
    "![image.png](attachment:image.png)"
   ]
  },
  {
   "cell_type": "markdown",
   "metadata": {},
   "source": [
    "- By observing the plot, we see that from around 850, the curve starts to flatten out. Therefore, we should set the number of components to 850."
   ]
  },
  {
   "cell_type": "code",
   "execution_count": 136,
   "metadata": {},
   "outputs": [],
   "source": [
    "# # Re-performing SVD with 850 components\n",
    "# train_fabric_type_svd = TruncatedSVD(n_components=850, random_state=42)\n",
    "# train_fabric_type_svd.fit(train_fabric_type_tfidf_matrix)\n",
    "\n",
    "# # Save the train_fabric_type_svd\n",
    "# joblib.dump(train_fabric_type_svd, '../models/train_fabric_type_svd.pkl')"
   ]
  },
  {
   "cell_type": "code",
   "execution_count": 130,
   "metadata": {},
   "outputs": [
    {
     "data": {
      "text/plain": [
       "(3752, 10)"
      ]
     },
     "execution_count": 130,
     "metadata": {},
     "output_type": "execute_result"
    }
   ],
   "source": [
    "train_df.shape"
   ]
  },
  {
   "cell_type": "code",
   "execution_count": 129,
   "metadata": {},
   "outputs": [
    {
     "data": {
      "text/plain": [
       "product_details.Fabric type\n",
       "100% Polyester                                                                                        478\n",
       "100% Cotton                                                                                           463\n",
       "unknown                                                                                               137\n",
       "Polyester                                                                                              92\n",
       "60% Cotton, 40% Polyester                                                                              81\n",
       "                                                                                                     ... \n",
       "77%Combed Cotton, 22%Nylon, 1%Lycra                                                                     1\n",
       "Fabric: 100%Cotton/ Lining: 20%Cotton, 80%Polyester                                                     1\n",
       "65% Viscose made from bamboo; 29% Cotton; 6% Spandex                                                    1\n",
       "60 % Rayon made from Bamboo, 21% Cotton, 17 % Polyamide, 2 % Elastane                                   1\n",
       "Our mens socks are made of 97% polyester and 3% spandex.Fit US men sock size 10-13,shoe size 6-12.      1\n",
       "Name: count, Length: 1270, dtype: int64"
      ]
     },
     "execution_count": 129,
     "metadata": {},
     "output_type": "execute_result"
    }
   ],
   "source": [
    "train_df['product_details.Fabric type'].value_counts()"
   ]
  },
  {
   "cell_type": "code",
   "execution_count": 137,
   "metadata": {},
   "outputs": [],
   "source": [
    "# # Load the train_fabric_type_svd\n",
    "# train_fabric_type_svd = joblib.load('../models/train_fabric_type_svd.pkl')\n",
    "\n",
    "# # Transform the TF-IDF matrix of the \"Fabric type\" column\n",
    "# train_fabric_type_svd_matrix = train_fabric_type_svd.transform(train_fabric_type_tfidf_matrix)"
   ]
  },
  {
   "cell_type": "code",
   "execution_count": 138,
   "metadata": {},
   "outputs": [],
   "source": [
    "# # Create a DataFrame from the TruncatedSVD matrix\n",
    "# train_fabric_type_svd_df = pd.DataFrame(data=train_fabric_type_svd_matrix)\n",
    "# train_fabric_type_svd_df.head()"
   ]
  },
  {
   "cell_type": "code",
   "execution_count": 139,
   "metadata": {},
   "outputs": [],
   "source": [
    "# # Save the train_fabric_type_svd_df\n",
    "# train_fabric_type_svd_df.to_csv(\"../data/processed/train_fabric_type_svd_df.csv\", index=False)"
   ]
  }
 ],
 "metadata": {
  "kernelspec": {
   "display_name": "Python 3 (ipykernel)",
   "language": "python",
   "name": "python3"
  },
  "language_info": {
   "codemirror_mode": {
    "name": "ipython",
    "version": 3
   },
   "file_extension": ".py",
   "mimetype": "text/x-python",
   "name": "python",
   "nbconvert_exporter": "python",
   "pygments_lexer": "ipython3",
   "version": "3.10.16"
  }
 },
 "nbformat": 4,
 "nbformat_minor": 4
}
