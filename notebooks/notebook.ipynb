{
 "cells": [
  {
   "cell_type": "markdown",
   "metadata": {},
   "source": [
    "# Fashion Trend Forcasting"
   ]
  },
  {
   "cell_type": "markdown",
   "metadata": {},
   "source": [
    "In this Data Science project, we work with a dataset crawled from the [Amazon Men's Clothing](https://www.amazon.com/Men-Clothing/b?ie=UTF8&node=1040658) website. Our ultimate goal is when given a new product unreleased on the platform, we will be able to forecast its **total rating** and **weighted rating**.\n",
    "In order to accomplish this, our project will go through these phases:\n",
    "\n",
    "1. "
   ]
  },
  {
   "cell_type": "markdown",
   "metadata": {},
   "source": [
    "## Import Libraries and Read Data"
   ]
  },
  {
   "cell_type": "code",
   "execution_count": 1,
   "metadata": {},
   "outputs": [],
   "source": [
    "# Libraries to manipulate data\n",
    "import numpy as np\n",
    "import pandas as pd\n",
    "import json\n",
    "\n",
    "# Modules, classes, and methods from scikit-learn\n",
    "from sklearn.model_selection import train_test_split\n",
    "from sklearn.preprocessing import StandardScaler\n",
    "\n",
    "from pyampute.exploration.md_patterns import mdPatterns\n",
    "from pyampute.exploration.mcar_statistical_tests import MCARTest\n",
    "\n",
    "# Others\n",
    "import matplotlib.pyplot as plt\n",
    "import joblib"
   ]
  },
  {
   "cell_type": "markdown",
   "metadata": {},
   "source": [
    "## Read the Dataset and Split it into Train Set and Test Set"
   ]
  },
  {
   "cell_type": "code",
   "execution_count": 2,
   "metadata": {},
   "outputs": [
    {
     "data": {
      "text/html": [
       "<div>\n",
       "<style scoped>\n",
       "    .dataframe tbody tr th:only-of-type {\n",
       "        vertical-align: middle;\n",
       "    }\n",
       "\n",
       "    .dataframe tbody tr th {\n",
       "        vertical-align: top;\n",
       "    }\n",
       "\n",
       "    .dataframe thead th {\n",
       "        text-align: right;\n",
       "    }\n",
       "</style>\n",
       "<table border=\"1\" class=\"dataframe\">\n",
       "  <thead>\n",
       "    <tr style=\"text-align: right;\">\n",
       "      <th></th>\n",
       "      <th>title</th>\n",
       "      <th>price_min</th>\n",
       "      <th>price_max</th>\n",
       "      <th>rating_total</th>\n",
       "      <th>rating_percent</th>\n",
       "      <th>variants</th>\n",
       "      <th>product_about</th>\n",
       "      <th>product_details.Fabric type</th>\n",
       "      <th>product_details.Care instructions</th>\n",
       "      <th>product_details.Origin</th>\n",
       "      <th>...</th>\n",
       "      <th>product_details.Sole material</th>\n",
       "      <th>product_details.Water resistance level</th>\n",
       "      <th>product_details.Sleeve type</th>\n",
       "      <th>product_details.Inseam</th>\n",
       "      <th>product_details.Shaft height</th>\n",
       "      <th>product_details.Pocket style</th>\n",
       "      <th>product_details.Shaft circumference</th>\n",
       "      <th>product_details.Inner material</th>\n",
       "      <th>product_details.Material</th>\n",
       "      <th>product_details.Item type name</th>\n",
       "    </tr>\n",
       "  </thead>\n",
       "  <tbody>\n",
       "    <tr>\n",
       "      <th>0</th>\n",
       "      <td>adidas Men's Athletic Cushioned Crew Socks wit...</td>\n",
       "      <td>13.99</td>\n",
       "      <td>13.99</td>\n",
       "      <td>42763</td>\n",
       "      <td>[79, 12, 5, 2, 2]</td>\n",
       "      <td>[Black/Aluminum 2, Heather Grey/Black, White/B...</td>\n",
       "      <td>Cushioned in the foot for comfort and durabili...</td>\n",
       "      <td>97% Polyester, 3% Spandex</td>\n",
       "      <td>Machine Wash</td>\n",
       "      <td>Imported</td>\n",
       "      <td>...</td>\n",
       "      <td>NaN</td>\n",
       "      <td>NaN</td>\n",
       "      <td>NaN</td>\n",
       "      <td>NaN</td>\n",
       "      <td>NaN</td>\n",
       "      <td>NaN</td>\n",
       "      <td>NaN</td>\n",
       "      <td>NaN</td>\n",
       "      <td>NaN</td>\n",
       "      <td>NaN</td>\n",
       "    </tr>\n",
       "    <tr>\n",
       "      <th>1</th>\n",
       "      <td>Nike Performance Cushion Crew Socks with Band ...</td>\n",
       "      <td>28.22</td>\n",
       "      <td>37.00</td>\n",
       "      <td>8619</td>\n",
       "      <td>[79, 10, 5, 2, 5]</td>\n",
       "      <td>[Black/White, White/Black]</td>\n",
       "      <td>Reinforced heel and toe for enhanced durabilit...</td>\n",
       "      <td>76% Cotton/21% Nylon/2% Spandex/1% Polyester</td>\n",
       "      <td>Machine Wash</td>\n",
       "      <td>Imported</td>\n",
       "      <td>...</td>\n",
       "      <td>NaN</td>\n",
       "      <td>NaN</td>\n",
       "      <td>NaN</td>\n",
       "      <td>NaN</td>\n",
       "      <td>NaN</td>\n",
       "      <td>NaN</td>\n",
       "      <td>NaN</td>\n",
       "      <td>NaN</td>\n",
       "      <td>NaN</td>\n",
       "      <td>NaN</td>\n",
       "    </tr>\n",
       "    <tr>\n",
       "      <th>2</th>\n",
       "      <td>Thermajohn Long Johns Thermal Underwear for Me...</td>\n",
       "      <td>25.49</td>\n",
       "      <td>31.99</td>\n",
       "      <td>52418</td>\n",
       "      <td>[76, 14, 5, 2, 3]</td>\n",
       "      <td>[Black, Charcoal, Grey, Navy, White, Christmas...</td>\n",
       "      <td>Heat Retention: When it comes to warmth and ev...</td>\n",
       "      <td>92% Polyester, 8% Spandex</td>\n",
       "      <td>Machine Wash</td>\n",
       "      <td>Imported</td>\n",
       "      <td>...</td>\n",
       "      <td>NaN</td>\n",
       "      <td>NaN</td>\n",
       "      <td>NaN</td>\n",
       "      <td>NaN</td>\n",
       "      <td>NaN</td>\n",
       "      <td>NaN</td>\n",
       "      <td>NaN</td>\n",
       "      <td>NaN</td>\n",
       "      <td>NaN</td>\n",
       "      <td>NaN</td>\n",
       "    </tr>\n",
       "    <tr>\n",
       "      <th>3</th>\n",
       "      <td>Calvin Klein Men's Cotton Stretch 7-Pack Boxer...</td>\n",
       "      <td>54.05</td>\n",
       "      <td>76.53</td>\n",
       "      <td>12714</td>\n",
       "      <td>[75, 12, 6, 3, 6]</td>\n",
       "      <td>[2 Blue Shadow, 2 White, 2 Black, 1 Cobalt Wat...</td>\n",
       "      <td>COTTON STRETCH: Spun in pure, premium cotton y...</td>\n",
       "      <td>95% Cotton, 5% Elastane</td>\n",
       "      <td>Machine Wash</td>\n",
       "      <td>Imported</td>\n",
       "      <td>...</td>\n",
       "      <td>NaN</td>\n",
       "      <td>NaN</td>\n",
       "      <td>NaN</td>\n",
       "      <td>NaN</td>\n",
       "      <td>NaN</td>\n",
       "      <td>NaN</td>\n",
       "      <td>NaN</td>\n",
       "      <td>NaN</td>\n",
       "      <td>NaN</td>\n",
       "      <td>NaN</td>\n",
       "    </tr>\n",
       "    <tr>\n",
       "      <th>4</th>\n",
       "      <td>Hanes Men's Hoodie, EcoSmart Fleece Hoodie, Ho...</td>\n",
       "      <td>11.46</td>\n",
       "      <td>11.46</td>\n",
       "      <td>176801</td>\n",
       "      <td>[72, 15, 7, 3, 4]</td>\n",
       "      <td>[Army Brown, Ash, Black, Cardinal, Charcoal He...</td>\n",
       "      <td>FLEECE TO FEEL GOOD ABOUT - Hanes EcoSmart men...</td>\n",
       "      <td>50% Cotton, 50% Polyester</td>\n",
       "      <td>Machine Wash</td>\n",
       "      <td>Imported</td>\n",
       "      <td>...</td>\n",
       "      <td>NaN</td>\n",
       "      <td>NaN</td>\n",
       "      <td>NaN</td>\n",
       "      <td>NaN</td>\n",
       "      <td>NaN</td>\n",
       "      <td>NaN</td>\n",
       "      <td>NaN</td>\n",
       "      <td>NaN</td>\n",
       "      <td>NaN</td>\n",
       "      <td>NaN</td>\n",
       "    </tr>\n",
       "  </tbody>\n",
       "</table>\n",
       "<p>5 rows × 32 columns</p>\n",
       "</div>"
      ],
      "text/plain": [
       "                                               title  price_min  price_max  \\\n",
       "0  adidas Men's Athletic Cushioned Crew Socks wit...      13.99      13.99   \n",
       "1  Nike Performance Cushion Crew Socks with Band ...      28.22      37.00   \n",
       "2  Thermajohn Long Johns Thermal Underwear for Me...      25.49      31.99   \n",
       "3  Calvin Klein Men's Cotton Stretch 7-Pack Boxer...      54.05      76.53   \n",
       "4  Hanes Men's Hoodie, EcoSmart Fleece Hoodie, Ho...      11.46      11.46   \n",
       "\n",
       "   rating_total     rating_percent  \\\n",
       "0         42763  [79, 12, 5, 2, 2]   \n",
       "1          8619  [79, 10, 5, 2, 5]   \n",
       "2         52418  [76, 14, 5, 2, 3]   \n",
       "3         12714  [75, 12, 6, 3, 6]   \n",
       "4        176801  [72, 15, 7, 3, 4]   \n",
       "\n",
       "                                            variants  \\\n",
       "0  [Black/Aluminum 2, Heather Grey/Black, White/B...   \n",
       "1                         [Black/White, White/Black]   \n",
       "2  [Black, Charcoal, Grey, Navy, White, Christmas...   \n",
       "3  [2 Blue Shadow, 2 White, 2 Black, 1 Cobalt Wat...   \n",
       "4  [Army Brown, Ash, Black, Cardinal, Charcoal He...   \n",
       "\n",
       "                                       product_about  \\\n",
       "0  Cushioned in the foot for comfort and durabili...   \n",
       "1  Reinforced heel and toe for enhanced durabilit...   \n",
       "2  Heat Retention: When it comes to warmth and ev...   \n",
       "3  COTTON STRETCH: Spun in pure, premium cotton y...   \n",
       "4  FLEECE TO FEEL GOOD ABOUT - Hanes EcoSmart men...   \n",
       "\n",
       "                    product_details.Fabric type  \\\n",
       "0                     97% Polyester, 3% Spandex   \n",
       "1  76% Cotton/21% Nylon/2% Spandex/1% Polyester   \n",
       "2                     92% Polyester, 8% Spandex   \n",
       "3                       95% Cotton, 5% Elastane   \n",
       "4                     50% Cotton, 50% Polyester   \n",
       "\n",
       "  product_details.Care instructions product_details.Origin  ...  \\\n",
       "0                      Machine Wash               Imported  ...   \n",
       "1                      Machine Wash               Imported  ...   \n",
       "2                      Machine Wash               Imported  ...   \n",
       "3                      Machine Wash               Imported  ...   \n",
       "4                      Machine Wash               Imported  ...   \n",
       "\n",
       "  product_details.Sole material product_details.Water resistance level  \\\n",
       "0                           NaN                                    NaN   \n",
       "1                           NaN                                    NaN   \n",
       "2                           NaN                                    NaN   \n",
       "3                           NaN                                    NaN   \n",
       "4                           NaN                                    NaN   \n",
       "\n",
       "  product_details.Sleeve type product_details.Inseam  \\\n",
       "0                         NaN                    NaN   \n",
       "1                         NaN                    NaN   \n",
       "2                         NaN                    NaN   \n",
       "3                         NaN                    NaN   \n",
       "4                         NaN                    NaN   \n",
       "\n",
       "  product_details.Shaft height product_details.Pocket style  \\\n",
       "0                          NaN                          NaN   \n",
       "1                          NaN                          NaN   \n",
       "2                          NaN                          NaN   \n",
       "3                          NaN                          NaN   \n",
       "4                          NaN                          NaN   \n",
       "\n",
       "  product_details.Shaft circumference product_details.Inner material  \\\n",
       "0                                 NaN                            NaN   \n",
       "1                                 NaN                            NaN   \n",
       "2                                 NaN                            NaN   \n",
       "3                                 NaN                            NaN   \n",
       "4                                 NaN                            NaN   \n",
       "\n",
       "  product_details.Material product_details.Item type name  \n",
       "0                      NaN                            NaN  \n",
       "1                      NaN                            NaN  \n",
       "2                      NaN                            NaN  \n",
       "3                      NaN                            NaN  \n",
       "4                      NaN                            NaN  \n",
       "\n",
       "[5 rows x 32 columns]"
      ]
     },
     "execution_count": 2,
     "metadata": {},
     "output_type": "execute_result"
    }
   ],
   "source": [
    "# Read the data from the json file\n",
    "data_path = \"../data/raw/fashion_products.json\"\n",
    "with open(data_path) as f:\n",
    "    data = json.load(f)\n",
    "\n",
    "# Normalize the data and create a dataframe\n",
    "df = pd.json_normalize(data)\n",
    "df.head()"
   ]
  },
  {
   "cell_type": "code",
   "execution_count": 3,
   "metadata": {},
   "outputs": [
    {
     "name": "stdout",
     "output_type": "stream",
     "text": [
      "<class 'pandas.core.frame.DataFrame'>\n",
      "RangeIndex: 4690 entries, 0 to 4689\n",
      "Data columns (total 32 columns):\n",
      " #   Column                                  Non-Null Count  Dtype  \n",
      "---  ------                                  --------------  -----  \n",
      " 0   title                                   4690 non-null   object \n",
      " 1   price_min                               4690 non-null   float64\n",
      " 2   price_max                               4690 non-null   float64\n",
      " 3   rating_total                            4690 non-null   int64  \n",
      " 4   rating_percent                          4580 non-null   object \n",
      " 5   variants                                4690 non-null   object \n",
      " 6   product_about                           4690 non-null   object \n",
      " 7   product_details.Fabric type             4526 non-null   object \n",
      " 8   product_details.Care instructions       4449 non-null   object \n",
      " 9   product_details.Origin                  4049 non-null   object \n",
      " 10  product_details.Fit type                146 non-null    object \n",
      " 11  product_details.Pattern                 614 non-null    object \n",
      " 12  product_details.Closure type            2097 non-null   object \n",
      " 13  product_details.Rise style              92 non-null     object \n",
      " 14  product_details.Weave type              112 non-null    object \n",
      " 15  product_details.Country of Origin       352 non-null    object \n",
      " 16  product_details.Neck style              213 non-null    object \n",
      " 17  product_details.Leg style               19 non-null     object \n",
      " 18  product_details.Fur description         45 non-null     object \n",
      " 19  product_details.Outer material          16 non-null     object \n",
      " 20  product_details.Length                  1 non-null      object \n",
      " 21  product_details.Bottom style            12 non-null     object \n",
      " 22  product_details.Sole material           16 non-null     object \n",
      " 23  product_details.Water resistance level  1 non-null      object \n",
      " 24  product_details.Sleeve type             31 non-null     object \n",
      " 25  product_details.Inseam                  43 non-null     object \n",
      " 26  product_details.Shaft height            2 non-null      object \n",
      " 27  product_details.Pocket style            1 non-null      object \n",
      " 28  product_details.Shaft circumference     1 non-null      object \n",
      " 29  product_details.Inner material          1 non-null      object \n",
      " 30  product_details.Material                1 non-null      object \n",
      " 31  product_details.Item type name          1 non-null      object \n",
      "dtypes: float64(2), int64(1), object(29)\n",
      "memory usage: 1.1+ MB\n"
     ]
    }
   ],
   "source": [
    "df.info()"
   ]
  },
  {
   "cell_type": "markdown",
   "metadata": {},
   "source": [
    "- By observing basic information of the data using the `.info()` method, we can see that there are many columns missing very large proportion of data."
   ]
  },
  {
   "cell_type": "code",
   "execution_count": 4,
   "metadata": {},
   "outputs": [],
   "source": [
    "# # NOTICE: WE ONLY RUN THIS PIECE OF CODE 1 TIME. PLEASE DON'T UNCOMMENT\n",
    "# # CHÚ Ý: ĐỪNG THÁO COMMENT ĐOẠN CODE NÀY\n",
    "\n",
    "# # Sample 80% of the data for training and 20% for testing\n",
    "# train, test = train_test_split(df, test_size=0.2)\n",
    "\n",
    "# # Save the train and test data\n",
    "# train.to_csv(\"../data/raw/train.csv\", index=False)\n",
    "# test.to_csv(\"../data/raw/test.csv\", index=False)"
   ]
  },
  {
   "cell_type": "markdown",
   "metadata": {},
   "source": [
    "## Data Preparation"
   ]
  },
  {
   "cell_type": "code",
   "execution_count": 5,
   "metadata": {},
   "outputs": [
    {
     "data": {
      "text/html": [
       "<div>\n",
       "<style scoped>\n",
       "    .dataframe tbody tr th:only-of-type {\n",
       "        vertical-align: middle;\n",
       "    }\n",
       "\n",
       "    .dataframe tbody tr th {\n",
       "        vertical-align: top;\n",
       "    }\n",
       "\n",
       "    .dataframe thead th {\n",
       "        text-align: right;\n",
       "    }\n",
       "</style>\n",
       "<table border=\"1\" class=\"dataframe\">\n",
       "  <thead>\n",
       "    <tr style=\"text-align: right;\">\n",
       "      <th></th>\n",
       "      <th>title</th>\n",
       "      <th>price_min</th>\n",
       "      <th>price_max</th>\n",
       "      <th>rating_total</th>\n",
       "      <th>rating_percent</th>\n",
       "      <th>variants</th>\n",
       "      <th>product_about</th>\n",
       "      <th>product_details.Fabric type</th>\n",
       "      <th>product_details.Care instructions</th>\n",
       "      <th>product_details.Origin</th>\n",
       "      <th>...</th>\n",
       "      <th>product_details.Sole material</th>\n",
       "      <th>product_details.Water resistance level</th>\n",
       "      <th>product_details.Sleeve type</th>\n",
       "      <th>product_details.Inseam</th>\n",
       "      <th>product_details.Shaft height</th>\n",
       "      <th>product_details.Pocket style</th>\n",
       "      <th>product_details.Shaft circumference</th>\n",
       "      <th>product_details.Inner material</th>\n",
       "      <th>product_details.Material</th>\n",
       "      <th>product_details.Item type name</th>\n",
       "    </tr>\n",
       "  </thead>\n",
       "  <tbody>\n",
       "    <tr>\n",
       "      <th>0</th>\n",
       "      <td>THE NORTH FACE Men's Canyonlands Hoodie</td>\n",
       "      <td>99.99</td>\n",
       "      <td>100.00</td>\n",
       "      <td>3</td>\n",
       "      <td>[63, 0, 37, 0, 0]</td>\n",
       "      <td>['Algae Blue Heather', 'Earthen Copper Heather...</td>\n",
       "      <td>ADVENTURE READY. The Men's Canyonlands Hoodie ...</td>\n",
       "      <td>96% Recycled Polyester, 4% Elastane Fleece</td>\n",
       "      <td>Machine Wash</td>\n",
       "      <td>Imported</td>\n",
       "      <td>...</td>\n",
       "      <td>NaN</td>\n",
       "      <td>NaN</td>\n",
       "      <td>NaN</td>\n",
       "      <td>NaN</td>\n",
       "      <td>NaN</td>\n",
       "      <td>NaN</td>\n",
       "      <td>NaN</td>\n",
       "      <td>NaN</td>\n",
       "      <td>NaN</td>\n",
       "      <td>NaN</td>\n",
       "    </tr>\n",
       "    <tr>\n",
       "      <th>1</th>\n",
       "      <td>Under Armour Men's Fleece Twist Quarter Zip</td>\n",
       "      <td>41.98</td>\n",
       "      <td>60.00</td>\n",
       "      <td>107</td>\n",
       "      <td>[78, 12, 8, 0, 3]</td>\n",
       "      <td>['(001) Black / / Black', '(012) Pitch Gray / ...</td>\n",
       "      <td>Armour Fleece is light, breathable &amp; stretchy ...</td>\n",
       "      <td>100% Polyester</td>\n",
       "      <td>Machine Wash</td>\n",
       "      <td>Imported</td>\n",
       "      <td>...</td>\n",
       "      <td>NaN</td>\n",
       "      <td>NaN</td>\n",
       "      <td>NaN</td>\n",
       "      <td>NaN</td>\n",
       "      <td>NaN</td>\n",
       "      <td>NaN</td>\n",
       "      <td>NaN</td>\n",
       "      <td>NaN</td>\n",
       "      <td>NaN</td>\n",
       "      <td>NaN</td>\n",
       "    </tr>\n",
       "    <tr>\n",
       "      <th>2</th>\n",
       "      <td>G Gradual Men's Sweatpants Open Bottom, Workou...</td>\n",
       "      <td>25.99</td>\n",
       "      <td>25.99</td>\n",
       "      <td>1869</td>\n",
       "      <td>[63, 19, 9, 4, 5]</td>\n",
       "      <td>['01-black', '01-grey', '02-black', '02-black ...</td>\n",
       "      <td>Mesh Material and Performance: The mens sweatp...</td>\n",
       "      <td>95% Polyester, 5% Spandex</td>\n",
       "      <td>Machine Wash</td>\n",
       "      <td>Imported</td>\n",
       "      <td>...</td>\n",
       "      <td>NaN</td>\n",
       "      <td>NaN</td>\n",
       "      <td>NaN</td>\n",
       "      <td>NaN</td>\n",
       "      <td>NaN</td>\n",
       "      <td>NaN</td>\n",
       "      <td>NaN</td>\n",
       "      <td>NaN</td>\n",
       "      <td>NaN</td>\n",
       "      <td>NaN</td>\n",
       "    </tr>\n",
       "    <tr>\n",
       "      <th>3</th>\n",
       "      <td>Elastic Bottom Baggy Sweatpants for Men, Worko...</td>\n",
       "      <td>29.99</td>\n",
       "      <td>29.99</td>\n",
       "      <td>2888</td>\n",
       "      <td>[67, 16, 8, 3, 5]</td>\n",
       "      <td>['Black', 'Charcoal', 'Grey', 'Navy', 'Brown',...</td>\n",
       "      <td>Unbeatable All-Day Comfort - Experience the lu...</td>\n",
       "      <td>100% Polyester</td>\n",
       "      <td>Machine Wash</td>\n",
       "      <td>Imported</td>\n",
       "      <td>...</td>\n",
       "      <td>NaN</td>\n",
       "      <td>NaN</td>\n",
       "      <td>NaN</td>\n",
       "      <td>NaN</td>\n",
       "      <td>NaN</td>\n",
       "      <td>NaN</td>\n",
       "      <td>NaN</td>\n",
       "      <td>NaN</td>\n",
       "      <td>NaN</td>\n",
       "      <td>NaN</td>\n",
       "    </tr>\n",
       "    <tr>\n",
       "      <th>4</th>\n",
       "      <td>Winterlace 24 Pairs Cotton Crew Socks, Mens Wo...</td>\n",
       "      <td>33.99</td>\n",
       "      <td>33.99</td>\n",
       "      <td>1674</td>\n",
       "      <td>[63, 13, 11, 5, 9]</td>\n",
       "      <td>['Assorted (White/Black/Gray)', 'Black', 'Blac...</td>\n",
       "      <td>COTTON CREW SOCKS : Crafted from a comfortable...</td>\n",
       "      <td>80% Cotton, 18% Polyester, 2% Spandex</td>\n",
       "      <td>Machine Wash</td>\n",
       "      <td>China</td>\n",
       "      <td>...</td>\n",
       "      <td>NaN</td>\n",
       "      <td>NaN</td>\n",
       "      <td>NaN</td>\n",
       "      <td>NaN</td>\n",
       "      <td>NaN</td>\n",
       "      <td>NaN</td>\n",
       "      <td>NaN</td>\n",
       "      <td>NaN</td>\n",
       "      <td>NaN</td>\n",
       "      <td>NaN</td>\n",
       "    </tr>\n",
       "  </tbody>\n",
       "</table>\n",
       "<p>5 rows × 32 columns</p>\n",
       "</div>"
      ],
      "text/plain": [
       "                                               title  price_min  price_max  \\\n",
       "0            THE NORTH FACE Men's Canyonlands Hoodie      99.99     100.00   \n",
       "1        Under Armour Men's Fleece Twist Quarter Zip      41.98      60.00   \n",
       "2  G Gradual Men's Sweatpants Open Bottom, Workou...      25.99      25.99   \n",
       "3  Elastic Bottom Baggy Sweatpants for Men, Worko...      29.99      29.99   \n",
       "4  Winterlace 24 Pairs Cotton Crew Socks, Mens Wo...      33.99      33.99   \n",
       "\n",
       "   rating_total      rating_percent  \\\n",
       "0             3   [63, 0, 37, 0, 0]   \n",
       "1           107   [78, 12, 8, 0, 3]   \n",
       "2          1869   [63, 19, 9, 4, 5]   \n",
       "3          2888   [67, 16, 8, 3, 5]   \n",
       "4          1674  [63, 13, 11, 5, 9]   \n",
       "\n",
       "                                            variants  \\\n",
       "0  ['Algae Blue Heather', 'Earthen Copper Heather...   \n",
       "1  ['(001) Black / / Black', '(012) Pitch Gray / ...   \n",
       "2  ['01-black', '01-grey', '02-black', '02-black ...   \n",
       "3  ['Black', 'Charcoal', 'Grey', 'Navy', 'Brown',...   \n",
       "4  ['Assorted (White/Black/Gray)', 'Black', 'Blac...   \n",
       "\n",
       "                                       product_about  \\\n",
       "0  ADVENTURE READY. The Men's Canyonlands Hoodie ...   \n",
       "1  Armour Fleece is light, breathable & stretchy ...   \n",
       "2  Mesh Material and Performance: The mens sweatp...   \n",
       "3  Unbeatable All-Day Comfort - Experience the lu...   \n",
       "4  COTTON CREW SOCKS : Crafted from a comfortable...   \n",
       "\n",
       "                  product_details.Fabric type  \\\n",
       "0  96% Recycled Polyester, 4% Elastane Fleece   \n",
       "1                              100% Polyester   \n",
       "2                   95% Polyester, 5% Spandex   \n",
       "3                              100% Polyester   \n",
       "4       80% Cotton, 18% Polyester, 2% Spandex   \n",
       "\n",
       "  product_details.Care instructions product_details.Origin  ...  \\\n",
       "0                      Machine Wash               Imported  ...   \n",
       "1                      Machine Wash               Imported  ...   \n",
       "2                      Machine Wash               Imported  ...   \n",
       "3                      Machine Wash               Imported  ...   \n",
       "4                      Machine Wash                  China  ...   \n",
       "\n",
       "  product_details.Sole material product_details.Water resistance level  \\\n",
       "0                           NaN                                    NaN   \n",
       "1                           NaN                                    NaN   \n",
       "2                           NaN                                    NaN   \n",
       "3                           NaN                                    NaN   \n",
       "4                           NaN                                    NaN   \n",
       "\n",
       "  product_details.Sleeve type product_details.Inseam  \\\n",
       "0                         NaN                    NaN   \n",
       "1                         NaN                    NaN   \n",
       "2                         NaN                    NaN   \n",
       "3                         NaN                    NaN   \n",
       "4                         NaN                    NaN   \n",
       "\n",
       "  product_details.Shaft height product_details.Pocket style  \\\n",
       "0                          NaN                          NaN   \n",
       "1                          NaN                          NaN   \n",
       "2                          NaN                          NaN   \n",
       "3                          NaN                          NaN   \n",
       "4                          NaN                          NaN   \n",
       "\n",
       "  product_details.Shaft circumference product_details.Inner material  \\\n",
       "0                                 NaN                            NaN   \n",
       "1                                 NaN                            NaN   \n",
       "2                                 NaN                            NaN   \n",
       "3                                 NaN                            NaN   \n",
       "4                                 NaN                            NaN   \n",
       "\n",
       "  product_details.Material product_details.Item type name  \n",
       "0                      NaN                            NaN  \n",
       "1                      NaN                            NaN  \n",
       "2                      NaN                            NaN  \n",
       "3                      NaN                            NaN  \n",
       "4                      NaN                            NaN  \n",
       "\n",
       "[5 rows x 32 columns]"
      ]
     },
     "execution_count": 5,
     "metadata": {},
     "output_type": "execute_result"
    }
   ],
   "source": [
    "# Read the train set\n",
    "train_df = pd.read_csv(\"../data/raw/train.csv\")\n",
    "\n",
    "# Inspect the train set\n",
    "train_df.head()"
   ]
  },
  {
   "cell_type": "markdown",
   "metadata": {},
   "source": [
    "### Data Cleaning"
   ]
  },
  {
   "cell_type": "markdown",
   "metadata": {},
   "source": [
    "#### Handle Missing Data"
   ]
  },
  {
   "cell_type": "code",
   "execution_count": 6,
   "metadata": {},
   "outputs": [
    {
     "data": {
      "text/plain": [
       "title                                       0.000000\n",
       "price_min                                   0.000000\n",
       "price_max                                   0.000000\n",
       "rating_total                                0.000000\n",
       "rating_percent                              2.345416\n",
       "variants                                    0.000000\n",
       "product_about                               1.305970\n",
       "product_details.Fabric type                 3.624733\n",
       "product_details.Care instructions           5.010661\n",
       "product_details.Origin                     13.619403\n",
       "product_details.Fit type                   96.934968\n",
       "product_details.Pattern                    86.860341\n",
       "product_details.Closure type               55.490405\n",
       "product_details.Rise style                 98.027719\n",
       "product_details.Weave type                 97.627932\n",
       "product_details.Country of Origin          92.324094\n",
       "product_details.Neck style                 95.549041\n",
       "product_details.Leg style                  99.546908\n",
       "product_details.Fur description            99.040512\n",
       "product_details.Outer material             99.680171\n",
       "product_details.Length                    100.000000\n",
       "product_details.Bottom style               99.706823\n",
       "product_details.Sole material              99.653518\n",
       "product_details.Water resistance level     99.973348\n",
       "product_details.Sleeve type                99.440299\n",
       "product_details.Inseam                     99.147122\n",
       "product_details.Shaft height               99.946695\n",
       "product_details.Pocket style               99.973348\n",
       "product_details.Shaft circumference        99.973348\n",
       "product_details.Inner material             99.973348\n",
       "product_details.Material                   99.973348\n",
       "product_details.Item type name             99.973348\n",
       "dtype: float64"
      ]
     },
     "execution_count": 6,
     "metadata": {},
     "output_type": "execute_result"
    }
   ],
   "source": [
    "# We will drop columns with more than 30% missing values.\n",
    "null_percents = train_df.isnull().sum() / len(train_df) * 100\n",
    "null_percents"
   ]
  },
  {
   "cell_type": "code",
   "execution_count": 7,
   "metadata": {},
   "outputs": [
    {
     "data": {
      "text/plain": [
       "['product_details.Fit type',\n",
       " 'product_details.Pattern',\n",
       " 'product_details.Closure type',\n",
       " 'product_details.Rise style',\n",
       " 'product_details.Weave type',\n",
       " 'product_details.Country of Origin',\n",
       " 'product_details.Neck style',\n",
       " 'product_details.Leg style',\n",
       " 'product_details.Fur description',\n",
       " 'product_details.Outer material',\n",
       " 'product_details.Length',\n",
       " 'product_details.Bottom style',\n",
       " 'product_details.Sole material',\n",
       " 'product_details.Water resistance level',\n",
       " 'product_details.Sleeve type',\n",
       " 'product_details.Inseam',\n",
       " 'product_details.Shaft height',\n",
       " 'product_details.Pocket style',\n",
       " 'product_details.Shaft circumference',\n",
       " 'product_details.Inner material',\n",
       " 'product_details.Material',\n",
       " 'product_details.Item type name']"
      ]
     },
     "execution_count": 7,
     "metadata": {},
     "output_type": "execute_result"
    }
   ],
   "source": [
    "drop_columns = [column for column in null_percents.index if null_percents[column] > 30]\n",
    "drop_columns"
   ]
  },
  {
   "cell_type": "markdown",
   "metadata": {},
   "source": [
    "- Later, when we deal with the test set, we also need to drop these columns to align with the train set."
   ]
  },
  {
   "cell_type": "code",
   "execution_count": 8,
   "metadata": {},
   "outputs": [
    {
     "data": {
      "text/html": [
       "<div>\n",
       "<style scoped>\n",
       "    .dataframe tbody tr th:only-of-type {\n",
       "        vertical-align: middle;\n",
       "    }\n",
       "\n",
       "    .dataframe tbody tr th {\n",
       "        vertical-align: top;\n",
       "    }\n",
       "\n",
       "    .dataframe thead th {\n",
       "        text-align: right;\n",
       "    }\n",
       "</style>\n",
       "<table border=\"1\" class=\"dataframe\">\n",
       "  <thead>\n",
       "    <tr style=\"text-align: right;\">\n",
       "      <th></th>\n",
       "      <th>title</th>\n",
       "      <th>price_min</th>\n",
       "      <th>price_max</th>\n",
       "      <th>rating_total</th>\n",
       "      <th>rating_percent</th>\n",
       "      <th>variants</th>\n",
       "      <th>product_about</th>\n",
       "      <th>product_details.Fabric type</th>\n",
       "      <th>product_details.Care instructions</th>\n",
       "      <th>product_details.Origin</th>\n",
       "    </tr>\n",
       "  </thead>\n",
       "  <tbody>\n",
       "    <tr>\n",
       "      <th>0</th>\n",
       "      <td>THE NORTH FACE Men's Canyonlands Hoodie</td>\n",
       "      <td>99.99</td>\n",
       "      <td>100.00</td>\n",
       "      <td>3</td>\n",
       "      <td>[63, 0, 37, 0, 0]</td>\n",
       "      <td>['Algae Blue Heather', 'Earthen Copper Heather...</td>\n",
       "      <td>ADVENTURE READY. The Men's Canyonlands Hoodie ...</td>\n",
       "      <td>96% Recycled Polyester, 4% Elastane Fleece</td>\n",
       "      <td>Machine Wash</td>\n",
       "      <td>Imported</td>\n",
       "    </tr>\n",
       "    <tr>\n",
       "      <th>1</th>\n",
       "      <td>Under Armour Men's Fleece Twist Quarter Zip</td>\n",
       "      <td>41.98</td>\n",
       "      <td>60.00</td>\n",
       "      <td>107</td>\n",
       "      <td>[78, 12, 8, 0, 3]</td>\n",
       "      <td>['(001) Black / / Black', '(012) Pitch Gray / ...</td>\n",
       "      <td>Armour Fleece is light, breathable &amp; stretchy ...</td>\n",
       "      <td>100% Polyester</td>\n",
       "      <td>Machine Wash</td>\n",
       "      <td>Imported</td>\n",
       "    </tr>\n",
       "    <tr>\n",
       "      <th>2</th>\n",
       "      <td>G Gradual Men's Sweatpants Open Bottom, Workou...</td>\n",
       "      <td>25.99</td>\n",
       "      <td>25.99</td>\n",
       "      <td>1869</td>\n",
       "      <td>[63, 19, 9, 4, 5]</td>\n",
       "      <td>['01-black', '01-grey', '02-black', '02-black ...</td>\n",
       "      <td>Mesh Material and Performance: The mens sweatp...</td>\n",
       "      <td>95% Polyester, 5% Spandex</td>\n",
       "      <td>Machine Wash</td>\n",
       "      <td>Imported</td>\n",
       "    </tr>\n",
       "    <tr>\n",
       "      <th>3</th>\n",
       "      <td>Elastic Bottom Baggy Sweatpants for Men, Worko...</td>\n",
       "      <td>29.99</td>\n",
       "      <td>29.99</td>\n",
       "      <td>2888</td>\n",
       "      <td>[67, 16, 8, 3, 5]</td>\n",
       "      <td>['Black', 'Charcoal', 'Grey', 'Navy', 'Brown',...</td>\n",
       "      <td>Unbeatable All-Day Comfort - Experience the lu...</td>\n",
       "      <td>100% Polyester</td>\n",
       "      <td>Machine Wash</td>\n",
       "      <td>Imported</td>\n",
       "    </tr>\n",
       "    <tr>\n",
       "      <th>4</th>\n",
       "      <td>Winterlace 24 Pairs Cotton Crew Socks, Mens Wo...</td>\n",
       "      <td>33.99</td>\n",
       "      <td>33.99</td>\n",
       "      <td>1674</td>\n",
       "      <td>[63, 13, 11, 5, 9]</td>\n",
       "      <td>['Assorted (White/Black/Gray)', 'Black', 'Blac...</td>\n",
       "      <td>COTTON CREW SOCKS : Crafted from a comfortable...</td>\n",
       "      <td>80% Cotton, 18% Polyester, 2% Spandex</td>\n",
       "      <td>Machine Wash</td>\n",
       "      <td>China</td>\n",
       "    </tr>\n",
       "  </tbody>\n",
       "</table>\n",
       "</div>"
      ],
      "text/plain": [
       "                                               title  price_min  price_max  \\\n",
       "0            THE NORTH FACE Men's Canyonlands Hoodie      99.99     100.00   \n",
       "1        Under Armour Men's Fleece Twist Quarter Zip      41.98      60.00   \n",
       "2  G Gradual Men's Sweatpants Open Bottom, Workou...      25.99      25.99   \n",
       "3  Elastic Bottom Baggy Sweatpants for Men, Worko...      29.99      29.99   \n",
       "4  Winterlace 24 Pairs Cotton Crew Socks, Mens Wo...      33.99      33.99   \n",
       "\n",
       "   rating_total      rating_percent  \\\n",
       "0             3   [63, 0, 37, 0, 0]   \n",
       "1           107   [78, 12, 8, 0, 3]   \n",
       "2          1869   [63, 19, 9, 4, 5]   \n",
       "3          2888   [67, 16, 8, 3, 5]   \n",
       "4          1674  [63, 13, 11, 5, 9]   \n",
       "\n",
       "                                            variants  \\\n",
       "0  ['Algae Blue Heather', 'Earthen Copper Heather...   \n",
       "1  ['(001) Black / / Black', '(012) Pitch Gray / ...   \n",
       "2  ['01-black', '01-grey', '02-black', '02-black ...   \n",
       "3  ['Black', 'Charcoal', 'Grey', 'Navy', 'Brown',...   \n",
       "4  ['Assorted (White/Black/Gray)', 'Black', 'Blac...   \n",
       "\n",
       "                                       product_about  \\\n",
       "0  ADVENTURE READY. The Men's Canyonlands Hoodie ...   \n",
       "1  Armour Fleece is light, breathable & stretchy ...   \n",
       "2  Mesh Material and Performance: The mens sweatp...   \n",
       "3  Unbeatable All-Day Comfort - Experience the lu...   \n",
       "4  COTTON CREW SOCKS : Crafted from a comfortable...   \n",
       "\n",
       "                  product_details.Fabric type  \\\n",
       "0  96% Recycled Polyester, 4% Elastane Fleece   \n",
       "1                              100% Polyester   \n",
       "2                   95% Polyester, 5% Spandex   \n",
       "3                              100% Polyester   \n",
       "4       80% Cotton, 18% Polyester, 2% Spandex   \n",
       "\n",
       "  product_details.Care instructions product_details.Origin  \n",
       "0                      Machine Wash               Imported  \n",
       "1                      Machine Wash               Imported  \n",
       "2                      Machine Wash               Imported  \n",
       "3                      Machine Wash               Imported  \n",
       "4                      Machine Wash                  China  "
      ]
     },
     "execution_count": 8,
     "metadata": {},
     "output_type": "execute_result"
    }
   ],
   "source": [
    "# Now, we will drop the columns with more than 30% missing values.\n",
    "train_df = train_df.drop(columns=drop_columns)\n",
    "train_df.head()"
   ]
  },
  {
   "cell_type": "code",
   "execution_count": 9,
   "metadata": {},
   "outputs": [
    {
     "name": "stdout",
     "output_type": "stream",
     "text": [
      "<class 'pandas.core.frame.DataFrame'>\n",
      "RangeIndex: 3752 entries, 0 to 3751\n",
      "Data columns (total 10 columns):\n",
      " #   Column                             Non-Null Count  Dtype  \n",
      "---  ------                             --------------  -----  \n",
      " 0   title                              3752 non-null   object \n",
      " 1   price_min                          3752 non-null   float64\n",
      " 2   price_max                          3752 non-null   float64\n",
      " 3   rating_total                       3752 non-null   int64  \n",
      " 4   rating_percent                     3664 non-null   object \n",
      " 5   variants                           3752 non-null   object \n",
      " 6   product_about                      3703 non-null   object \n",
      " 7   product_details.Fabric type        3616 non-null   object \n",
      " 8   product_details.Care instructions  3564 non-null   object \n",
      " 9   product_details.Origin             3241 non-null   object \n",
      "dtypes: float64(2), int64(1), object(7)\n",
      "memory usage: 293.2+ KB\n"
     ]
    }
   ],
   "source": [
    "# Check the result after dropping columns\n",
    "train_df.info()"
   ]
  },
  {
   "cell_type": "markdown",
   "metadata": {},
   "source": [
    "- We need to admit that there are features/variables we cannot impute, those are:\n",
    "  - `rating_percent`\n",
    "  - `product_about`\n",
    "  - `product_details.Fabric type`\n",
    "  - `product_details.Care instructions`\n",
    "  - `product_details.Origin`\n",
    "- We need to decide whether to drop rows missing these feature or fill them with `\"unknown\"` (for categorical variable) or 0 (for numerical variable). At this point, we choose not to drop any rows but fill them instead."
   ]
  },
  {
   "cell_type": "markdown",
   "metadata": {},
   "source": [
    "##### Rating percent"
   ]
  },
  {
   "cell_type": "code",
   "execution_count": 10,
   "metadata": {},
   "outputs": [
    {
     "data": {
      "text/plain": [
       "88"
      ]
     },
     "execution_count": 10,
     "metadata": {},
     "output_type": "execute_result"
    }
   ],
   "source": [
    "# Check for missing values on \"rating_percent\" column\n",
    "train_df['rating_percent'].isnull().sum()"
   ]
  },
  {
   "cell_type": "code",
   "execution_count": 11,
   "metadata": {},
   "outputs": [
    {
     "data": {
      "text/plain": [
       "0        [63, 0, 37, 0, 0]\n",
       "1        [78, 12, 8, 0, 3]\n",
       "2        [63, 19, 9, 4, 5]\n",
       "3        [67, 16, 8, 3, 5]\n",
       "4       [63, 13, 11, 5, 9]\n",
       "               ...        \n",
       "3747     [82, 11, 3, 2, 2]\n",
       "3748      [82, 9, 3, 3, 2]\n",
       "3749     [100, 0, 0, 0, 0]\n",
       "3750     [65, 18, 8, 3, 5]\n",
       "3751      [87, 7, 3, 2, 1]\n",
       "Name: rating_percent, Length: 3752, dtype: object"
      ]
     },
     "execution_count": 11,
     "metadata": {},
     "output_type": "execute_result"
    }
   ],
   "source": [
    "# Convert 'rating_percent' from string like \"[[76, 12, 7, 2, 3]]\"\" to list of integers\n",
    "def convert_rating_percent(x) -> list:\n",
    "    # If x is not string, return an empty list\n",
    "    if not isinstance(x, str):\n",
    "        return []\n",
    "\n",
    "    x = x.replace('None', '0')\n",
    "    x = x.strip('[]').split(', ')\n",
    "    result = list(map(int, x))\n",
    "    \n",
    "    return result\n",
    "\n",
    "train_df['rating_percent'] = train_df['rating_percent'].apply(convert_rating_percent)\n",
    "train_df['rating_percent']"
   ]
  },
  {
   "cell_type": "markdown",
   "metadata": {},
   "source": [
    "- By observing the result of the cell above, we can see that the last row (the `3751`th row) has its sum not to be `100`, which is illogical because the total percentage of all type of ratings (from `1` to `5`) must be `100%`. So, we can feel that there'r something weird about the values of this `rating_percent` column; thereby needing to investigate. We will calculate the sum of each rows in this column and inspect the unique sums resulted."
   ]
  },
  {
   "cell_type": "code",
   "execution_count": 12,
   "metadata": {},
   "outputs": [
    {
     "data": {
      "text/plain": [
       "100    2261\n",
       "99      720\n",
       "101     668\n",
       "0        88\n",
       "98        9\n",
       "102       6\n",
       "Name: rating_percent, dtype: int64"
      ]
     },
     "execution_count": 12,
     "metadata": {},
     "output_type": "execute_result"
    }
   ],
   "source": [
    "train_df['rating_percent'].apply(lambda x: sum(x)).value_counts()"
   ]
  },
  {
   "cell_type": "markdown",
   "metadata": {},
   "source": [
    "- We admit that the amount of errorneous values are huge and therefore dropping all of them can cause a unacceptable loss of information. So, we need to find out a way to scale each values of the column to make their sum become 100 without significantly changing the actual meaning of them."
   ]
  },
  {
   "cell_type": "code",
   "execution_count": 13,
   "metadata": {},
   "outputs": [],
   "source": [
    "def scale_rating_percent(rating_percent: list[int]) -> list[int]:\n",
    "    \"\"\"\n",
    "    This function scales the rating_percent list to make its sum to be 100.\n",
    "    \"\"\"\n",
    "    \n",
    "    # If after the conversion above, the rating percent is empty,\n",
    "    # in this function, we will do nothing.\n",
    "    if len(rating_percent) == 0:\n",
    "        return rating_percent\n",
    "    \n",
    "    current_sum = sum(rating_percent)\n",
    "    \n",
    "    if current_sum == 100:\n",
    "        return rating_percent\n",
    "    \n",
    "    values_to_distribute = 100 - current_sum # This can be positive or negative.\n",
    "    \n",
    "    unit = 1 if values_to_distribute > 0 else -1\n",
    "    \n",
    "    for i in range(abs(values_to_distribute)):\n",
    "        # Add unit to a random position in rating_percent\n",
    "        rating_percent[np.random.randint(5)] += unit\n",
    "    \n",
    "    return rating_percent"
   ]
  },
  {
   "cell_type": "code",
   "execution_count": 14,
   "metadata": {},
   "outputs": [
    {
     "data": {
      "text/plain": [
       "100"
      ]
     },
     "execution_count": 14,
     "metadata": {},
     "output_type": "execute_result"
    }
   ],
   "source": [
    "# Let's test the function above with an errorneous list\n",
    "errorneous_list = [77, 10, 6, 2, 7]\n",
    "sum(scale_rating_percent(errorneous_list))"
   ]
  },
  {
   "cell_type": "markdown",
   "metadata": {},
   "source": [
    "- Okay it's worked. Now we apply this function on the `rating_percent` column."
   ]
  },
  {
   "cell_type": "code",
   "execution_count": 15,
   "metadata": {},
   "outputs": [
    {
     "data": {
      "text/plain": [
       "100    3664\n",
       "0        88\n",
       "Name: rating_percent, dtype: int64"
      ]
     },
     "execution_count": 15,
     "metadata": {},
     "output_type": "execute_result"
    }
   ],
   "source": [
    "train_df['rating_percent'] = train_df['rating_percent'].apply(scale_rating_percent)\n",
    "train_df['rating_percent'].apply(lambda x: sum(x)).value_counts()"
   ]
  },
  {
   "cell_type": "code",
   "execution_count": 16,
   "metadata": {},
   "outputs": [],
   "source": [
    "def calc_weighted_rating(rating_percent) -> np.float64:\n",
    "    if len(rating_percent) != 5:\n",
    "        return np.nan\n",
    "    \n",
    "    rating_percent = np.array(rating_percent.copy()) / 100\n",
    "    rating_scale = [5, 4, 3, 2, 1]\n",
    "    \n",
    "    return np.dot(rating_percent, rating_scale)"
   ]
  },
  {
   "cell_type": "code",
   "execution_count": 17,
   "metadata": {},
   "outputs": [
    {
     "data": {
      "text/plain": [
       "0    4.26\n",
       "1    4.61\n",
       "2    4.31\n",
       "3    4.36\n",
       "4    4.14\n",
       "Name: weighted_rating, dtype: float64"
      ]
     },
     "execution_count": 17,
     "metadata": {},
     "output_type": "execute_result"
    }
   ],
   "source": [
    "train_df['weighted_rating'] = train_df['rating_percent'].apply(func=calc_weighted_rating)\n",
    "train_df['weighted_rating'].head()"
   ]
  },
  {
   "cell_type": "code",
   "execution_count": 18,
   "metadata": {},
   "outputs": [
    {
     "data": {
      "text/html": [
       "<div>\n",
       "<style scoped>\n",
       "    .dataframe tbody tr th:only-of-type {\n",
       "        vertical-align: middle;\n",
       "    }\n",
       "\n",
       "    .dataframe tbody tr th {\n",
       "        vertical-align: top;\n",
       "    }\n",
       "\n",
       "    .dataframe thead th {\n",
       "        text-align: right;\n",
       "    }\n",
       "</style>\n",
       "<table border=\"1\" class=\"dataframe\">\n",
       "  <thead>\n",
       "    <tr style=\"text-align: right;\">\n",
       "      <th></th>\n",
       "      <th>title</th>\n",
       "      <th>price_min</th>\n",
       "      <th>price_max</th>\n",
       "      <th>rating_total</th>\n",
       "      <th>variants</th>\n",
       "      <th>product_about</th>\n",
       "      <th>product_details.Fabric type</th>\n",
       "      <th>product_details.Care instructions</th>\n",
       "      <th>product_details.Origin</th>\n",
       "      <th>weighted_rating</th>\n",
       "    </tr>\n",
       "  </thead>\n",
       "  <tbody>\n",
       "    <tr>\n",
       "      <th>0</th>\n",
       "      <td>THE NORTH FACE Men's Canyonlands Hoodie</td>\n",
       "      <td>99.99</td>\n",
       "      <td>100.00</td>\n",
       "      <td>3</td>\n",
       "      <td>['Algae Blue Heather', 'Earthen Copper Heather...</td>\n",
       "      <td>ADVENTURE READY. The Men's Canyonlands Hoodie ...</td>\n",
       "      <td>96% Recycled Polyester, 4% Elastane Fleece</td>\n",
       "      <td>Machine Wash</td>\n",
       "      <td>Imported</td>\n",
       "      <td>4.26</td>\n",
       "    </tr>\n",
       "    <tr>\n",
       "      <th>1</th>\n",
       "      <td>Under Armour Men's Fleece Twist Quarter Zip</td>\n",
       "      <td>41.98</td>\n",
       "      <td>60.00</td>\n",
       "      <td>107</td>\n",
       "      <td>['(001) Black / / Black', '(012) Pitch Gray / ...</td>\n",
       "      <td>Armour Fleece is light, breathable &amp; stretchy ...</td>\n",
       "      <td>100% Polyester</td>\n",
       "      <td>Machine Wash</td>\n",
       "      <td>Imported</td>\n",
       "      <td>4.61</td>\n",
       "    </tr>\n",
       "    <tr>\n",
       "      <th>2</th>\n",
       "      <td>G Gradual Men's Sweatpants Open Bottom, Workou...</td>\n",
       "      <td>25.99</td>\n",
       "      <td>25.99</td>\n",
       "      <td>1869</td>\n",
       "      <td>['01-black', '01-grey', '02-black', '02-black ...</td>\n",
       "      <td>Mesh Material and Performance: The mens sweatp...</td>\n",
       "      <td>95% Polyester, 5% Spandex</td>\n",
       "      <td>Machine Wash</td>\n",
       "      <td>Imported</td>\n",
       "      <td>4.31</td>\n",
       "    </tr>\n",
       "    <tr>\n",
       "      <th>3</th>\n",
       "      <td>Elastic Bottom Baggy Sweatpants for Men, Worko...</td>\n",
       "      <td>29.99</td>\n",
       "      <td>29.99</td>\n",
       "      <td>2888</td>\n",
       "      <td>['Black', 'Charcoal', 'Grey', 'Navy', 'Brown',...</td>\n",
       "      <td>Unbeatable All-Day Comfort - Experience the lu...</td>\n",
       "      <td>100% Polyester</td>\n",
       "      <td>Machine Wash</td>\n",
       "      <td>Imported</td>\n",
       "      <td>4.36</td>\n",
       "    </tr>\n",
       "    <tr>\n",
       "      <th>4</th>\n",
       "      <td>Winterlace 24 Pairs Cotton Crew Socks, Mens Wo...</td>\n",
       "      <td>33.99</td>\n",
       "      <td>33.99</td>\n",
       "      <td>1674</td>\n",
       "      <td>['Assorted (White/Black/Gray)', 'Black', 'Blac...</td>\n",
       "      <td>COTTON CREW SOCKS : Crafted from a comfortable...</td>\n",
       "      <td>80% Cotton, 18% Polyester, 2% Spandex</td>\n",
       "      <td>Machine Wash</td>\n",
       "      <td>China</td>\n",
       "      <td>4.14</td>\n",
       "    </tr>\n",
       "  </tbody>\n",
       "</table>\n",
       "</div>"
      ],
      "text/plain": [
       "                                               title  price_min  price_max  \\\n",
       "0            THE NORTH FACE Men's Canyonlands Hoodie      99.99     100.00   \n",
       "1        Under Armour Men's Fleece Twist Quarter Zip      41.98      60.00   \n",
       "2  G Gradual Men's Sweatpants Open Bottom, Workou...      25.99      25.99   \n",
       "3  Elastic Bottom Baggy Sweatpants for Men, Worko...      29.99      29.99   \n",
       "4  Winterlace 24 Pairs Cotton Crew Socks, Mens Wo...      33.99      33.99   \n",
       "\n",
       "   rating_total                                           variants  \\\n",
       "0             3  ['Algae Blue Heather', 'Earthen Copper Heather...   \n",
       "1           107  ['(001) Black / / Black', '(012) Pitch Gray / ...   \n",
       "2          1869  ['01-black', '01-grey', '02-black', '02-black ...   \n",
       "3          2888  ['Black', 'Charcoal', 'Grey', 'Navy', 'Brown',...   \n",
       "4          1674  ['Assorted (White/Black/Gray)', 'Black', 'Blac...   \n",
       "\n",
       "                                       product_about  \\\n",
       "0  ADVENTURE READY. The Men's Canyonlands Hoodie ...   \n",
       "1  Armour Fleece is light, breathable & stretchy ...   \n",
       "2  Mesh Material and Performance: The mens sweatp...   \n",
       "3  Unbeatable All-Day Comfort - Experience the lu...   \n",
       "4  COTTON CREW SOCKS : Crafted from a comfortable...   \n",
       "\n",
       "                  product_details.Fabric type  \\\n",
       "0  96% Recycled Polyester, 4% Elastane Fleece   \n",
       "1                              100% Polyester   \n",
       "2                   95% Polyester, 5% Spandex   \n",
       "3                              100% Polyester   \n",
       "4       80% Cotton, 18% Polyester, 2% Spandex   \n",
       "\n",
       "  product_details.Care instructions product_details.Origin  weighted_rating  \n",
       "0                      Machine Wash               Imported             4.26  \n",
       "1                      Machine Wash               Imported             4.61  \n",
       "2                      Machine Wash               Imported             4.31  \n",
       "3                      Machine Wash               Imported             4.36  \n",
       "4                      Machine Wash                  China             4.14  "
      ]
     },
     "execution_count": 18,
     "metadata": {},
     "output_type": "execute_result"
    }
   ],
   "source": [
    "train_df.drop(columns=['rating_percent'], inplace=True)\n",
    "train_df.head()"
   ]
  },
  {
   "cell_type": "code",
   "execution_count": 19,
   "metadata": {},
   "outputs": [
    {
     "name": "stdout",
     "output_type": "stream",
     "text": [
      "<class 'pandas.core.frame.DataFrame'>\n",
      "RangeIndex: 3752 entries, 0 to 3751\n",
      "Data columns (total 10 columns):\n",
      " #   Column                             Non-Null Count  Dtype  \n",
      "---  ------                             --------------  -----  \n",
      " 0   title                              3752 non-null   object \n",
      " 1   price_min                          3752 non-null   float64\n",
      " 2   price_max                          3752 non-null   float64\n",
      " 3   rating_total                       3752 non-null   int64  \n",
      " 4   variants                           3752 non-null   object \n",
      " 5   product_about                      3703 non-null   object \n",
      " 6   product_details.Fabric type        3616 non-null   object \n",
      " 7   product_details.Care instructions  3564 non-null   object \n",
      " 8   product_details.Origin             3241 non-null   object \n",
      " 9   weighted_rating                    3660 non-null   float64\n",
      "dtypes: float64(3), int64(1), object(6)\n",
      "memory usage: 293.2+ KB\n"
     ]
    }
   ],
   "source": [
    "train_df.info()"
   ]
  },
  {
   "cell_type": "markdown",
   "metadata": {},
   "source": [
    "- Actually, from the start of this step (Handling Missing Data) until this point, we're just doing feature engineering on `rating_percent`, no actual \"handling missing data\" was performed. But as we wrote above (right before the \"Rating percent\" cell), there're just only 2 strategies that we chose to handle missing data in this step: dropping or filling (Why? Simply because we want to keep the \"Imputation and Removal\" step separately later.), **AND** both strategies won't work well on the `weighted_rating`, **SO** we decide to impute the weighted_rating later in the \"Imputation and Removal\" step. But why do we think both strategies won't work well?\n",
    "  - Why not \"dropping\"? Simply because we want to keep as much data points as we can. \n",
    "  - Why not \"filling\"? Because we think it is feasible to do imputation for missing values on this column."
   ]
  },
  {
   "cell_type": "markdown",
   "metadata": {},
   "source": [
    "##### Product about, Fabric type, Care instructions and Origin"
   ]
  },
  {
   "cell_type": "code",
   "execution_count": 20,
   "metadata": {},
   "outputs": [],
   "source": [
    "# Fill missing value of `product_about` with empty string\n",
    "train_df['product_about'] = train_df['product_about'].fillna('')\n",
    "\n",
    "# Fill missing value of `product_details.Fabric type`, `product_details.Care instructions`,\n",
    "# and `product_details.Origin` with \"unknown\"\n",
    "train_df['product_details.Fabric type'] = train_df['product_details.Fabric type'].fillna('unknown')\n",
    "train_df['product_details.Care instructions'] = train_df['product_details.Care instructions'].fillna('unknown')\n",
    "train_df['product_details.Origin'] = train_df['product_details.Origin'].fillna('unknown')"
   ]
  },
  {
   "cell_type": "code",
   "execution_count": 21,
   "metadata": {},
   "outputs": [
    {
     "name": "stdout",
     "output_type": "stream",
     "text": [
      "<class 'pandas.core.frame.DataFrame'>\n",
      "RangeIndex: 3752 entries, 0 to 3751\n",
      "Data columns (total 10 columns):\n",
      " #   Column                             Non-Null Count  Dtype  \n",
      "---  ------                             --------------  -----  \n",
      " 0   title                              3752 non-null   object \n",
      " 1   price_min                          3752 non-null   float64\n",
      " 2   price_max                          3752 non-null   float64\n",
      " 3   rating_total                       3752 non-null   int64  \n",
      " 4   variants                           3752 non-null   object \n",
      " 5   product_about                      3752 non-null   object \n",
      " 6   product_details.Fabric type        3752 non-null   object \n",
      " 7   product_details.Care instructions  3752 non-null   object \n",
      " 8   product_details.Origin             3752 non-null   object \n",
      " 9   weighted_rating                    3660 non-null   float64\n",
      "dtypes: float64(3), int64(1), object(6)\n",
      "memory usage: 293.2+ KB\n"
     ]
    }
   ],
   "source": [
    "# Let's check the result after filling missing values of those `object`-typed columns\n",
    "train_df.info()"
   ]
  },
  {
   "cell_type": "markdown",
   "metadata": {},
   "source": [
    "#### Encode Categorical Variables"
   ]
  },
  {
   "cell_type": "markdown",
   "metadata": {},
   "source": [
    "- As far as we've learned, we think it will be the best to encode categorical variables before stepping into any imputation or removal tasks."
   ]
  },
  {
   "cell_type": "code",
   "execution_count": 22,
   "metadata": {},
   "outputs": [
    {
     "data": {
      "text/plain": [
       "title                                3716\n",
       "price_min                            1409\n",
       "price_max                            1216\n",
       "rating_total                         2274\n",
       "variants                             3045\n",
       "product_about                        3500\n",
       "product_details.Fabric type          1266\n",
       "product_details.Care instructions     192\n",
       "product_details.Origin                 60\n",
       "weighted_rating                       342\n",
       "dtype: int64"
      ]
     },
     "execution_count": 22,
     "metadata": {},
     "output_type": "execute_result"
    }
   ],
   "source": [
    "# Count unique values of each column\n",
    "unique_values = train_df.nunique()\n",
    "unique_values"
   ]
  },
  {
   "cell_type": "code",
   "execution_count": 23,
   "metadata": {},
   "outputs": [
    {
     "data": {
      "text/plain": [
       "100% Polyester                                                          489\n",
       "100% Cotton                                                             475\n",
       "unknown                                                                 136\n",
       "Polyester                                                                93\n",
       "60% Cotton, 40% Polyester                                                78\n",
       "                                                                       ... \n",
       "55% Cotton, 45% Polyester. All inner sherpa lined including sleeves.      1\n",
       "Outer: 95% Cotton, 5% Spandex; Lining: Polyester                          1\n",
       "52.7% cotton, 22.8% nylon, 5.6% spandex, 18.9% polyester                  1\n",
       "90% Polyester/10% Spandex, Elastic Fabric                                 1\n",
       "79% Merino Wool 20% Nylon 1% Lycra Spandex                                1\n",
       "Name: product_details.Fabric type, Length: 1266, dtype: int64"
      ]
     },
     "execution_count": 23,
     "metadata": {},
     "output_type": "execute_result"
    }
   ],
   "source": [
    "train_df['product_details.Fabric type'].value_counts()"
   ]
  },
  {
   "cell_type": "markdown",
   "metadata": {},
   "source": [
    "- We can see that the values in this column are not initially suitable to be encoded and doing data cleaning on this column is time-consuming. Therefore, we will embed them using a small embedding model in the Feature Engineering step later. And this happens the same with `product_details.Care instructions` and `product_details.Origin`."
   ]
  },
  {
   "cell_type": "markdown",
   "metadata": {},
   "source": [
    "#### Imputation and Removal"
   ]
  },
  {
   "cell_type": "markdown",
   "metadata": {},
   "source": [
    "- In this sub-step of imputation and removal, we only need to impute the missing values of the `weighted_rating` column. But, before doing any \"imputation\", we need to determine the \"missing data mechanism\" of this column in order to choose the appropriate \"imputation method\".\n",
    "- There are 3 missing data mechanisms:\n",
    "  - **Missing Completely at Random (MCAR)**: The missingness is totally random and unrelated to any data. Imputation here is straightforward and less likely to introduce bias.\n",
    "  - **Missing at Random (MAR)**: The missingness is related to other observed variables but not the missing one itself. With the right techniques, imputation can still be effective.\n",
    "  - **Missing Not at Random (MNAR)**: The missingness is related to the value of the missing data itself. Imputation in this scenario is tricky and can introduce bias."
   ]
  },
  {
   "cell_type": "markdown",
   "metadata": {},
   "source": [
    "##### Missing Data Mechanism of `weighted_rating`"
   ]
  },
  {
   "cell_type": "code",
   "execution_count": 24,
   "metadata": {},
   "outputs": [
    {
     "name": "stdout",
     "output_type": "stream",
     "text": [
      "<class 'pandas.core.frame.DataFrame'>\n",
      "RangeIndex: 3752 entries, 0 to 3751\n",
      "Data columns (total 10 columns):\n",
      " #   Column                             Non-Null Count  Dtype  \n",
      "---  ------                             --------------  -----  \n",
      " 0   title                              3752 non-null   object \n",
      " 1   price_min                          3752 non-null   float64\n",
      " 2   price_max                          3752 non-null   float64\n",
      " 3   rating_total                       3752 non-null   int64  \n",
      " 4   variants                           3752 non-null   object \n",
      " 5   product_about                      3752 non-null   object \n",
      " 6   product_details.Fabric type        3752 non-null   object \n",
      " 7   product_details.Care instructions  3752 non-null   object \n",
      " 8   product_details.Origin             3752 non-null   object \n",
      " 9   weighted_rating                    3660 non-null   float64\n",
      "dtypes: float64(3), int64(1), object(6)\n",
      "memory usage: 293.2+ KB\n"
     ]
    }
   ],
   "source": [
    "train_df.info()"
   ]
  },
  {
   "cell_type": "code",
   "execution_count": 25,
   "metadata": {},
   "outputs": [
    {
     "data": {
      "text/plain": [
       "0.0"
      ]
     },
     "execution_count": 25,
     "metadata": {},
     "output_type": "execute_result"
    }
   ],
   "source": [
    "numerical_columns = train_df.select_dtypes(include=[np.number]).columns\n",
    "mt = MCARTest(method=\"little\")\n",
    "mt.little_mcar_test(train_df[numerical_columns])"
   ]
  },
  {
   "cell_type": "markdown",
   "metadata": {},
   "source": [
    "#### Handle Duplicates"
   ]
  },
  {
   "cell_type": "code",
   "execution_count": 26,
   "metadata": {},
   "outputs": [
    {
     "data": {
      "text/plain": [
       "9"
      ]
     },
     "execution_count": 26,
     "metadata": {},
     "output_type": "execute_result"
    }
   ],
   "source": [
    "# Identify duplicate rows\n",
    "duplicates = train_df.duplicated()\n",
    "duplicates.sum()"
   ]
  },
  {
   "cell_type": "code",
   "execution_count": 27,
   "metadata": {},
   "outputs": [
    {
     "data": {
      "text/plain": [
       "(3743, 10)"
      ]
     },
     "execution_count": 27,
     "metadata": {},
     "output_type": "execute_result"
    }
   ],
   "source": [
    "# Remove duplicate rows\n",
    "train_df = train_df.drop_duplicates()\n",
    "train_df.shape"
   ]
  },
  {
   "cell_type": "code",
   "execution_count": 28,
   "metadata": {},
   "outputs": [
    {
     "data": {
      "text/html": [
       "<div>\n",
       "<style scoped>\n",
       "    .dataframe tbody tr th:only-of-type {\n",
       "        vertical-align: middle;\n",
       "    }\n",
       "\n",
       "    .dataframe tbody tr th {\n",
       "        vertical-align: top;\n",
       "    }\n",
       "\n",
       "    .dataframe thead th {\n",
       "        text-align: right;\n",
       "    }\n",
       "</style>\n",
       "<table border=\"1\" class=\"dataframe\">\n",
       "  <thead>\n",
       "    <tr style=\"text-align: right;\">\n",
       "      <th></th>\n",
       "      <th>title</th>\n",
       "      <th>price_min</th>\n",
       "      <th>price_max</th>\n",
       "      <th>rating_total</th>\n",
       "      <th>variants</th>\n",
       "      <th>product_about</th>\n",
       "      <th>product_details.Fabric type</th>\n",
       "      <th>product_details.Care instructions</th>\n",
       "      <th>product_details.Origin</th>\n",
       "      <th>weighted_rating</th>\n",
       "    </tr>\n",
       "  </thead>\n",
       "  <tbody>\n",
       "    <tr>\n",
       "      <th>0</th>\n",
       "      <td>THE NORTH FACE Men's Canyonlands Hoodie</td>\n",
       "      <td>99.99</td>\n",
       "      <td>100.00</td>\n",
       "      <td>3</td>\n",
       "      <td>['Algae Blue Heather', 'Earthen Copper Heather...</td>\n",
       "      <td>ADVENTURE READY. The Men's Canyonlands Hoodie ...</td>\n",
       "      <td>96% Recycled Polyester, 4% Elastane Fleece</td>\n",
       "      <td>Machine Wash</td>\n",
       "      <td>Imported</td>\n",
       "      <td>4.26</td>\n",
       "    </tr>\n",
       "    <tr>\n",
       "      <th>1</th>\n",
       "      <td>Under Armour Men's Fleece Twist Quarter Zip</td>\n",
       "      <td>41.98</td>\n",
       "      <td>60.00</td>\n",
       "      <td>107</td>\n",
       "      <td>['(001) Black / / Black', '(012) Pitch Gray / ...</td>\n",
       "      <td>Armour Fleece is light, breathable &amp; stretchy ...</td>\n",
       "      <td>100% Polyester</td>\n",
       "      <td>Machine Wash</td>\n",
       "      <td>Imported</td>\n",
       "      <td>4.61</td>\n",
       "    </tr>\n",
       "    <tr>\n",
       "      <th>2</th>\n",
       "      <td>G Gradual Men's Sweatpants Open Bottom, Workou...</td>\n",
       "      <td>25.99</td>\n",
       "      <td>25.99</td>\n",
       "      <td>1869</td>\n",
       "      <td>['01-black', '01-grey', '02-black', '02-black ...</td>\n",
       "      <td>Mesh Material and Performance: The mens sweatp...</td>\n",
       "      <td>95% Polyester, 5% Spandex</td>\n",
       "      <td>Machine Wash</td>\n",
       "      <td>Imported</td>\n",
       "      <td>4.31</td>\n",
       "    </tr>\n",
       "    <tr>\n",
       "      <th>3</th>\n",
       "      <td>Elastic Bottom Baggy Sweatpants for Men, Worko...</td>\n",
       "      <td>29.99</td>\n",
       "      <td>29.99</td>\n",
       "      <td>2888</td>\n",
       "      <td>['Black', 'Charcoal', 'Grey', 'Navy', 'Brown',...</td>\n",
       "      <td>Unbeatable All-Day Comfort - Experience the lu...</td>\n",
       "      <td>100% Polyester</td>\n",
       "      <td>Machine Wash</td>\n",
       "      <td>Imported</td>\n",
       "      <td>4.36</td>\n",
       "    </tr>\n",
       "    <tr>\n",
       "      <th>4</th>\n",
       "      <td>Winterlace 24 Pairs Cotton Crew Socks, Mens Wo...</td>\n",
       "      <td>33.99</td>\n",
       "      <td>33.99</td>\n",
       "      <td>1674</td>\n",
       "      <td>['Assorted (White/Black/Gray)', 'Black', 'Blac...</td>\n",
       "      <td>COTTON CREW SOCKS : Crafted from a comfortable...</td>\n",
       "      <td>80% Cotton, 18% Polyester, 2% Spandex</td>\n",
       "      <td>Machine Wash</td>\n",
       "      <td>China</td>\n",
       "      <td>4.14</td>\n",
       "    </tr>\n",
       "  </tbody>\n",
       "</table>\n",
       "</div>"
      ],
      "text/plain": [
       "                                               title  price_min  price_max  \\\n",
       "0            THE NORTH FACE Men's Canyonlands Hoodie      99.99     100.00   \n",
       "1        Under Armour Men's Fleece Twist Quarter Zip      41.98      60.00   \n",
       "2  G Gradual Men's Sweatpants Open Bottom, Workou...      25.99      25.99   \n",
       "3  Elastic Bottom Baggy Sweatpants for Men, Worko...      29.99      29.99   \n",
       "4  Winterlace 24 Pairs Cotton Crew Socks, Mens Wo...      33.99      33.99   \n",
       "\n",
       "   rating_total                                           variants  \\\n",
       "0             3  ['Algae Blue Heather', 'Earthen Copper Heather...   \n",
       "1           107  ['(001) Black / / Black', '(012) Pitch Gray / ...   \n",
       "2          1869  ['01-black', '01-grey', '02-black', '02-black ...   \n",
       "3          2888  ['Black', 'Charcoal', 'Grey', 'Navy', 'Brown',...   \n",
       "4          1674  ['Assorted (White/Black/Gray)', 'Black', 'Blac...   \n",
       "\n",
       "                                       product_about  \\\n",
       "0  ADVENTURE READY. The Men's Canyonlands Hoodie ...   \n",
       "1  Armour Fleece is light, breathable & stretchy ...   \n",
       "2  Mesh Material and Performance: The mens sweatp...   \n",
       "3  Unbeatable All-Day Comfort - Experience the lu...   \n",
       "4  COTTON CREW SOCKS : Crafted from a comfortable...   \n",
       "\n",
       "                  product_details.Fabric type  \\\n",
       "0  96% Recycled Polyester, 4% Elastane Fleece   \n",
       "1                              100% Polyester   \n",
       "2                   95% Polyester, 5% Spandex   \n",
       "3                              100% Polyester   \n",
       "4       80% Cotton, 18% Polyester, 2% Spandex   \n",
       "\n",
       "  product_details.Care instructions product_details.Origin  weighted_rating  \n",
       "0                      Machine Wash               Imported             4.26  \n",
       "1                      Machine Wash               Imported             4.61  \n",
       "2                      Machine Wash               Imported             4.31  \n",
       "3                      Machine Wash               Imported             4.36  \n",
       "4                      Machine Wash                  China             4.14  "
      ]
     },
     "execution_count": 28,
     "metadata": {},
     "output_type": "execute_result"
    }
   ],
   "source": [
    "train_df.head()"
   ]
  },
  {
   "cell_type": "markdown",
   "metadata": {},
   "source": [
    "#### Package Data Cleaning Step into a Function"
   ]
  },
  {
   "cell_type": "markdown",
   "metadata": {},
   "source": [
    "### Data Transformation"
   ]
  },
  {
   "cell_type": "markdown",
   "metadata": {},
   "source": [
    "#### Standardize Column Names"
   ]
  },
  {
   "cell_type": "code",
   "execution_count": 29,
   "metadata": {},
   "outputs": [
    {
     "data": {
      "text/plain": [
       "Index(['title', 'price_min', 'price_max', 'rating_total', 'variants',\n",
       "       'product_about', 'product_details.Fabric type',\n",
       "       'product_details.Care instructions', 'product_details.Origin',\n",
       "       'weighted_rating'],\n",
       "      dtype='object')"
      ]
     },
     "execution_count": 29,
     "metadata": {},
     "output_type": "execute_result"
    }
   ],
   "source": [
    "train_df.columns"
   ]
  },
  {
   "cell_type": "code",
   "execution_count": 30,
   "metadata": {},
   "outputs": [
    {
     "data": {
      "text/html": [
       "<div>\n",
       "<style scoped>\n",
       "    .dataframe tbody tr th:only-of-type {\n",
       "        vertical-align: middle;\n",
       "    }\n",
       "\n",
       "    .dataframe tbody tr th {\n",
       "        vertical-align: top;\n",
       "    }\n",
       "\n",
       "    .dataframe thead th {\n",
       "        text-align: right;\n",
       "    }\n",
       "</style>\n",
       "<table border=\"1\" class=\"dataframe\">\n",
       "  <thead>\n",
       "    <tr style=\"text-align: right;\">\n",
       "      <th></th>\n",
       "      <th>title</th>\n",
       "      <th>price min</th>\n",
       "      <th>price max</th>\n",
       "      <th>rating total</th>\n",
       "      <th>variants</th>\n",
       "      <th>product about</th>\n",
       "      <th>fabric type</th>\n",
       "      <th>care instructions</th>\n",
       "      <th>origin</th>\n",
       "      <th>weighted rating</th>\n",
       "    </tr>\n",
       "  </thead>\n",
       "  <tbody>\n",
       "    <tr>\n",
       "      <th>0</th>\n",
       "      <td>THE NORTH FACE Men's Canyonlands Hoodie</td>\n",
       "      <td>99.99</td>\n",
       "      <td>100.00</td>\n",
       "      <td>3</td>\n",
       "      <td>['Algae Blue Heather', 'Earthen Copper Heather...</td>\n",
       "      <td>ADVENTURE READY. The Men's Canyonlands Hoodie ...</td>\n",
       "      <td>96% Recycled Polyester, 4% Elastane Fleece</td>\n",
       "      <td>Machine Wash</td>\n",
       "      <td>Imported</td>\n",
       "      <td>4.26</td>\n",
       "    </tr>\n",
       "    <tr>\n",
       "      <th>1</th>\n",
       "      <td>Under Armour Men's Fleece Twist Quarter Zip</td>\n",
       "      <td>41.98</td>\n",
       "      <td>60.00</td>\n",
       "      <td>107</td>\n",
       "      <td>['(001) Black / / Black', '(012) Pitch Gray / ...</td>\n",
       "      <td>Armour Fleece is light, breathable &amp; stretchy ...</td>\n",
       "      <td>100% Polyester</td>\n",
       "      <td>Machine Wash</td>\n",
       "      <td>Imported</td>\n",
       "      <td>4.61</td>\n",
       "    </tr>\n",
       "    <tr>\n",
       "      <th>2</th>\n",
       "      <td>G Gradual Men's Sweatpants Open Bottom, Workou...</td>\n",
       "      <td>25.99</td>\n",
       "      <td>25.99</td>\n",
       "      <td>1869</td>\n",
       "      <td>['01-black', '01-grey', '02-black', '02-black ...</td>\n",
       "      <td>Mesh Material and Performance: The mens sweatp...</td>\n",
       "      <td>95% Polyester, 5% Spandex</td>\n",
       "      <td>Machine Wash</td>\n",
       "      <td>Imported</td>\n",
       "      <td>4.31</td>\n",
       "    </tr>\n",
       "    <tr>\n",
       "      <th>3</th>\n",
       "      <td>Elastic Bottom Baggy Sweatpants for Men, Worko...</td>\n",
       "      <td>29.99</td>\n",
       "      <td>29.99</td>\n",
       "      <td>2888</td>\n",
       "      <td>['Black', 'Charcoal', 'Grey', 'Navy', 'Brown',...</td>\n",
       "      <td>Unbeatable All-Day Comfort - Experience the lu...</td>\n",
       "      <td>100% Polyester</td>\n",
       "      <td>Machine Wash</td>\n",
       "      <td>Imported</td>\n",
       "      <td>4.36</td>\n",
       "    </tr>\n",
       "    <tr>\n",
       "      <th>4</th>\n",
       "      <td>Winterlace 24 Pairs Cotton Crew Socks, Mens Wo...</td>\n",
       "      <td>33.99</td>\n",
       "      <td>33.99</td>\n",
       "      <td>1674</td>\n",
       "      <td>['Assorted (White/Black/Gray)', 'Black', 'Blac...</td>\n",
       "      <td>COTTON CREW SOCKS : Crafted from a comfortable...</td>\n",
       "      <td>80% Cotton, 18% Polyester, 2% Spandex</td>\n",
       "      <td>Machine Wash</td>\n",
       "      <td>China</td>\n",
       "      <td>4.14</td>\n",
       "    </tr>\n",
       "  </tbody>\n",
       "</table>\n",
       "</div>"
      ],
      "text/plain": [
       "                                               title  price min  price max  \\\n",
       "0            THE NORTH FACE Men's Canyonlands Hoodie      99.99     100.00   \n",
       "1        Under Armour Men's Fleece Twist Quarter Zip      41.98      60.00   \n",
       "2  G Gradual Men's Sweatpants Open Bottom, Workou...      25.99      25.99   \n",
       "3  Elastic Bottom Baggy Sweatpants for Men, Worko...      29.99      29.99   \n",
       "4  Winterlace 24 Pairs Cotton Crew Socks, Mens Wo...      33.99      33.99   \n",
       "\n",
       "   rating total                                           variants  \\\n",
       "0             3  ['Algae Blue Heather', 'Earthen Copper Heather...   \n",
       "1           107  ['(001) Black / / Black', '(012) Pitch Gray / ...   \n",
       "2          1869  ['01-black', '01-grey', '02-black', '02-black ...   \n",
       "3          2888  ['Black', 'Charcoal', 'Grey', 'Navy', 'Brown',...   \n",
       "4          1674  ['Assorted (White/Black/Gray)', 'Black', 'Blac...   \n",
       "\n",
       "                                       product about  \\\n",
       "0  ADVENTURE READY. The Men's Canyonlands Hoodie ...   \n",
       "1  Armour Fleece is light, breathable & stretchy ...   \n",
       "2  Mesh Material and Performance: The mens sweatp...   \n",
       "3  Unbeatable All-Day Comfort - Experience the lu...   \n",
       "4  COTTON CREW SOCKS : Crafted from a comfortable...   \n",
       "\n",
       "                                  fabric type care instructions    origin  \\\n",
       "0  96% Recycled Polyester, 4% Elastane Fleece      Machine Wash  Imported   \n",
       "1                              100% Polyester      Machine Wash  Imported   \n",
       "2                   95% Polyester, 5% Spandex      Machine Wash  Imported   \n",
       "3                              100% Polyester      Machine Wash  Imported   \n",
       "4       80% Cotton, 18% Polyester, 2% Spandex      Machine Wash     China   \n",
       "\n",
       "   weighted rating  \n",
       "0             4.26  \n",
       "1             4.61  \n",
       "2             4.31  \n",
       "3             4.36  \n",
       "4             4.14  "
      ]
     },
     "execution_count": 30,
     "metadata": {},
     "output_type": "execute_result"
    }
   ],
   "source": [
    "def standardize_column_names(col_name: str) -> str:\n",
    "    # Delete 'product_details.'\n",
    "    new_name = col_name.replace('product_details.', '')\n",
    "    \n",
    "    # Replace '_' with ' '\n",
    "    new_name = new_name.replace('_', ' ')\n",
    "    \n",
    "    # Lowercase column names\n",
    "    new_name = new_name.lower()\n",
    "    \n",
    "    return new_name\n",
    "\n",
    "new_col_names = [standardize_column_names(col_name) for col_name in train_df.columns]\n",
    "train_df.columns = new_col_names\n",
    "train_df.head()"
   ]
  },
  {
   "cell_type": "markdown",
   "metadata": {},
   "source": [
    "#### Handle Outliers"
   ]
  },
  {
   "cell_type": "code",
   "execution_count": 31,
   "metadata": {},
   "outputs": [
    {
     "data": {
      "text/html": [
       "<div>\n",
       "<style scoped>\n",
       "    .dataframe tbody tr th:only-of-type {\n",
       "        vertical-align: middle;\n",
       "    }\n",
       "\n",
       "    .dataframe tbody tr th {\n",
       "        vertical-align: top;\n",
       "    }\n",
       "\n",
       "    .dataframe thead th {\n",
       "        text-align: right;\n",
       "    }\n",
       "</style>\n",
       "<table border=\"1\" class=\"dataframe\">\n",
       "  <thead>\n",
       "    <tr style=\"text-align: right;\">\n",
       "      <th></th>\n",
       "      <th>title</th>\n",
       "      <th>price min</th>\n",
       "      <th>price max</th>\n",
       "      <th>rating total</th>\n",
       "      <th>variants</th>\n",
       "      <th>product about</th>\n",
       "      <th>fabric type</th>\n",
       "      <th>care instructions</th>\n",
       "      <th>origin</th>\n",
       "      <th>weighted rating</th>\n",
       "    </tr>\n",
       "  </thead>\n",
       "  <tbody>\n",
       "    <tr>\n",
       "      <th>0</th>\n",
       "      <td>THE NORTH FACE Men's Canyonlands Hoodie</td>\n",
       "      <td>99.99</td>\n",
       "      <td>100.00</td>\n",
       "      <td>3</td>\n",
       "      <td>['Algae Blue Heather', 'Earthen Copper Heather...</td>\n",
       "      <td>ADVENTURE READY. The Men's Canyonlands Hoodie ...</td>\n",
       "      <td>96% Recycled Polyester, 4% Elastane Fleece</td>\n",
       "      <td>Machine Wash</td>\n",
       "      <td>Imported</td>\n",
       "      <td>4.26</td>\n",
       "    </tr>\n",
       "    <tr>\n",
       "      <th>1</th>\n",
       "      <td>Under Armour Men's Fleece Twist Quarter Zip</td>\n",
       "      <td>41.98</td>\n",
       "      <td>60.00</td>\n",
       "      <td>107</td>\n",
       "      <td>['(001) Black / / Black', '(012) Pitch Gray / ...</td>\n",
       "      <td>Armour Fleece is light, breathable &amp; stretchy ...</td>\n",
       "      <td>100% Polyester</td>\n",
       "      <td>Machine Wash</td>\n",
       "      <td>Imported</td>\n",
       "      <td>4.61</td>\n",
       "    </tr>\n",
       "    <tr>\n",
       "      <th>2</th>\n",
       "      <td>G Gradual Men's Sweatpants Open Bottom, Workou...</td>\n",
       "      <td>25.99</td>\n",
       "      <td>25.99</td>\n",
       "      <td>1869</td>\n",
       "      <td>['01-black', '01-grey', '02-black', '02-black ...</td>\n",
       "      <td>Mesh Material and Performance: The mens sweatp...</td>\n",
       "      <td>95% Polyester, 5% Spandex</td>\n",
       "      <td>Machine Wash</td>\n",
       "      <td>Imported</td>\n",
       "      <td>4.31</td>\n",
       "    </tr>\n",
       "    <tr>\n",
       "      <th>3</th>\n",
       "      <td>Elastic Bottom Baggy Sweatpants for Men, Worko...</td>\n",
       "      <td>29.99</td>\n",
       "      <td>29.99</td>\n",
       "      <td>2888</td>\n",
       "      <td>['Black', 'Charcoal', 'Grey', 'Navy', 'Brown',...</td>\n",
       "      <td>Unbeatable All-Day Comfort - Experience the lu...</td>\n",
       "      <td>100% Polyester</td>\n",
       "      <td>Machine Wash</td>\n",
       "      <td>Imported</td>\n",
       "      <td>4.36</td>\n",
       "    </tr>\n",
       "    <tr>\n",
       "      <th>4</th>\n",
       "      <td>Winterlace 24 Pairs Cotton Crew Socks, Mens Wo...</td>\n",
       "      <td>33.99</td>\n",
       "      <td>33.99</td>\n",
       "      <td>1674</td>\n",
       "      <td>['Assorted (White/Black/Gray)', 'Black', 'Blac...</td>\n",
       "      <td>COTTON CREW SOCKS : Crafted from a comfortable...</td>\n",
       "      <td>80% Cotton, 18% Polyester, 2% Spandex</td>\n",
       "      <td>Machine Wash</td>\n",
       "      <td>China</td>\n",
       "      <td>4.14</td>\n",
       "    </tr>\n",
       "  </tbody>\n",
       "</table>\n",
       "</div>"
      ],
      "text/plain": [
       "                                               title  price min  price max  \\\n",
       "0            THE NORTH FACE Men's Canyonlands Hoodie      99.99     100.00   \n",
       "1        Under Armour Men's Fleece Twist Quarter Zip      41.98      60.00   \n",
       "2  G Gradual Men's Sweatpants Open Bottom, Workou...      25.99      25.99   \n",
       "3  Elastic Bottom Baggy Sweatpants for Men, Worko...      29.99      29.99   \n",
       "4  Winterlace 24 Pairs Cotton Crew Socks, Mens Wo...      33.99      33.99   \n",
       "\n",
       "   rating total                                           variants  \\\n",
       "0             3  ['Algae Blue Heather', 'Earthen Copper Heather...   \n",
       "1           107  ['(001) Black / / Black', '(012) Pitch Gray / ...   \n",
       "2          1869  ['01-black', '01-grey', '02-black', '02-black ...   \n",
       "3          2888  ['Black', 'Charcoal', 'Grey', 'Navy', 'Brown',...   \n",
       "4          1674  ['Assorted (White/Black/Gray)', 'Black', 'Blac...   \n",
       "\n",
       "                                       product about  \\\n",
       "0  ADVENTURE READY. The Men's Canyonlands Hoodie ...   \n",
       "1  Armour Fleece is light, breathable & stretchy ...   \n",
       "2  Mesh Material and Performance: The mens sweatp...   \n",
       "3  Unbeatable All-Day Comfort - Experience the lu...   \n",
       "4  COTTON CREW SOCKS : Crafted from a comfortable...   \n",
       "\n",
       "                                  fabric type care instructions    origin  \\\n",
       "0  96% Recycled Polyester, 4% Elastane Fleece      Machine Wash  Imported   \n",
       "1                              100% Polyester      Machine Wash  Imported   \n",
       "2                   95% Polyester, 5% Spandex      Machine Wash  Imported   \n",
       "3                              100% Polyester      Machine Wash  Imported   \n",
       "4       80% Cotton, 18% Polyester, 2% Spandex      Machine Wash     China   \n",
       "\n",
       "   weighted rating  \n",
       "0             4.26  \n",
       "1             4.61  \n",
       "2             4.31  \n",
       "3             4.36  \n",
       "4             4.14  "
      ]
     },
     "execution_count": 31,
     "metadata": {},
     "output_type": "execute_result"
    }
   ],
   "source": [
    "train_df.head()"
   ]
  },
  {
   "cell_type": "code",
   "execution_count": 32,
   "metadata": {},
   "outputs": [],
   "source": [
    "# Function to draw boxplot given column name\n",
    "def draw_boxplot(df, column_name):\n",
    "    plt.figure(figsize=(10, 5))\n",
    "    plt.boxplot(df[column_name], vert=False)\n",
    "    plt.title(f'Boxplot of {column_name}')\n",
    "    plt.show()"
   ]
  },
  {
   "cell_type": "code",
   "execution_count": 33,
   "metadata": {},
   "outputs": [
    {
     "data": {
      "image/png": "[encoded data removed]",
      "text/plain": [
       "<Figure size 1000x500 with 1 Axes>"
      ]
     },
     "metadata": {},
     "output_type": "display_data"
    }
   ],
   "source": [
    "# Draw boxplot for \"price min\"\n",
    "draw_boxplot(train_df, 'price min')"
   ]
  },
  {
   "cell_type": "code",
   "execution_count": 34,
   "metadata": {},
   "outputs": [
    {
     "data": {
      "image/png": "[encoded data removed]",
      "text/plain": [
       "<Figure size 1000x500 with 1 Axes>"
      ]
     },
     "metadata": {},
     "output_type": "display_data"
    }
   ],
   "source": [
    "# Draw boxplot for \"Price max\"\n",
    "draw_boxplot(train_df, 'price max')"
   ]
  },
  {
   "cell_type": "code",
   "execution_count": 35,
   "metadata": {},
   "outputs": [
    {
     "data": {
      "image/png": "[encoded data removed]",
      "text/plain": [
       "<Figure size 1000x500 with 1 Axes>"
      ]
     },
     "metadata": {},
     "output_type": "display_data"
    }
   ],
   "source": [
    "# Draw boxplot for \"Rating total\"\n",
    "draw_boxplot(train_df, 'rating total')"
   ]
  },
  {
   "cell_type": "code",
   "execution_count": 36,
   "metadata": {},
   "outputs": [
    {
     "data": {
      "image/png": "[encoded data removed]",
      "text/plain": [
       "<Figure size 1000x500 with 1 Axes>"
      ]
     },
     "metadata": {},
     "output_type": "display_data"
    },
    {
     "data": {
      "image/png": "[encoded data removed]",
      "text/plain": [
       "<Figure size 1000x500 with 1 Axes>"
      ]
     },
     "metadata": {},
     "output_type": "display_data"
    },
    {
     "data": {
      "image/png": "[encoded data removed]",
      "text/plain": [
       "<Figure size 1000x500 with 1 Axes>"
      ]
     },
     "metadata": {},
     "output_type": "display_data"
    },
    {
     "data": {
      "image/png": "[encoded data removed]",
      "text/plain": [
       "<Figure size 1000x500 with 1 Axes>"
      ]
     },
     "metadata": {},
     "output_type": "display_data"
    }
   ],
   "source": [
    "# Iterate over the numerical columns\n",
    "numerical_columns = [\"price min\", \"price max\", \"rating total\", \"weighted rating\"]\n",
    "for column in numerical_columns:\n",
    "    # Calculate IQR\n",
    "    Q1 = train_df[column].quantile(0.25)\n",
    "    Q3 = train_df[column].quantile(0.75)\n",
    "    IQR = Q3 - Q1\n",
    "    \n",
    "    # Calculate the lower and upper bounds\n",
    "    lower_bound = Q1 - 1.5 * IQR\n",
    "    upper_bound = Q3 + 1.5 * IQR\n",
    "    \n",
    "    # Remove rows with outliers\n",
    "    train_df = train_df[(train_df[column] >= lower_bound) & (train_df[column] <= upper_bound)]\n",
    "    \n",
    "    # Draw boxplot\n",
    "    draw_boxplot(train_df, column)"
   ]
  },
  {
   "cell_type": "markdown",
   "metadata": {},
   "source": [
    "#### Scale and Normalize Data"
   ]
  },
  {
   "cell_type": "code",
   "execution_count": 37,
   "metadata": {},
   "outputs": [
    {
     "data": {
      "text/html": [
       "<div>\n",
       "<style scoped>\n",
       "    .dataframe tbody tr th:only-of-type {\n",
       "        vertical-align: middle;\n",
       "    }\n",
       "\n",
       "    .dataframe tbody tr th {\n",
       "        vertical-align: top;\n",
       "    }\n",
       "\n",
       "    .dataframe thead th {\n",
       "        text-align: right;\n",
       "    }\n",
       "</style>\n",
       "<table border=\"1\" class=\"dataframe\">\n",
       "  <thead>\n",
       "    <tr style=\"text-align: right;\">\n",
       "      <th></th>\n",
       "      <th>price min</th>\n",
       "      <th>price max</th>\n",
       "      <th>rating total</th>\n",
       "      <th>weighted rating</th>\n",
       "    </tr>\n",
       "  </thead>\n",
       "  <tbody>\n",
       "    <tr>\n",
       "      <th>count</th>\n",
       "      <td>2.676000e+03</td>\n",
       "      <td>2.676000e+03</td>\n",
       "      <td>2.676000e+03</td>\n",
       "      <td>2.676000e+03</td>\n",
       "    </tr>\n",
       "    <tr>\n",
       "      <th>mean</th>\n",
       "      <td>-2.296784e-16</td>\n",
       "      <td>-1.526764e-16</td>\n",
       "      <td>-3.982863e-17</td>\n",
       "      <td>-4.237766e-15</td>\n",
       "    </tr>\n",
       "    <tr>\n",
       "      <th>std</th>\n",
       "      <td>1.000187e+00</td>\n",
       "      <td>1.000187e+00</td>\n",
       "      <td>1.000187e+00</td>\n",
       "      <td>1.000187e+00</td>\n",
       "    </tr>\n",
       "    <tr>\n",
       "      <th>min</th>\n",
       "      <td>-1.724398e+00</td>\n",
       "      <td>-1.879479e+00</td>\n",
       "      <td>-7.733095e-01</td>\n",
       "      <td>-2.880777e+00</td>\n",
       "    </tr>\n",
       "    <tr>\n",
       "      <th>25%</th>\n",
       "      <td>-6.727231e-01</td>\n",
       "      <td>-6.972677e-01</td>\n",
       "      <td>-6.921913e-01</td>\n",
       "      <td>-6.040096e-01</td>\n",
       "    </tr>\n",
       "    <tr>\n",
       "      <th>50%</th>\n",
       "      <td>-1.165163e-01</td>\n",
       "      <td>-1.535596e-01</td>\n",
       "      <td>-4.419134e-01</td>\n",
       "      <td>9.653420e-02</td>\n",
       "    </tr>\n",
       "    <tr>\n",
       "      <th>75%</th>\n",
       "      <td>5.077401e-01</td>\n",
       "      <td>5.552221e-01</td>\n",
       "      <td>2.919582e-01</td>\n",
       "      <td>7.386994e-01</td>\n",
       "    </tr>\n",
       "    <tr>\n",
       "      <th>max</th>\n",
       "      <td>3.038509e+00</td>\n",
       "      <td>2.570429e+00</td>\n",
       "      <td>3.561610e+00</td>\n",
       "      <td>2.723573e+00</td>\n",
       "    </tr>\n",
       "  </tbody>\n",
       "</table>\n",
       "</div>"
      ],
      "text/plain": [
       "          price min     price max  rating total  weighted rating\n",
       "count  2.676000e+03  2.676000e+03  2.676000e+03     2.676000e+03\n",
       "mean  -2.296784e-16 -1.526764e-16 -3.982863e-17    -4.237766e-15\n",
       "std    1.000187e+00  1.000187e+00  1.000187e+00     1.000187e+00\n",
       "min   -1.724398e+00 -1.879479e+00 -7.733095e-01    -2.880777e+00\n",
       "25%   -6.727231e-01 -6.972677e-01 -6.921913e-01    -6.040096e-01\n",
       "50%   -1.165163e-01 -1.535596e-01 -4.419134e-01     9.653420e-02\n",
       "75%    5.077401e-01  5.552221e-01  2.919582e-01     7.386994e-01\n",
       "max    3.038509e+00  2.570429e+00  3.561610e+00     2.723573e+00"
      ]
     },
     "execution_count": 37,
     "metadata": {},
     "output_type": "execute_result"
    }
   ],
   "source": [
    "# Create a StandardScaler object\n",
    "scaler = StandardScaler()\n",
    "\n",
    "# Fit the scaler on the numerical columns of the train data\n",
    "scaler.fit(train_df[numerical_columns])\n",
    "\n",
    "# Transform the numerical columns of the train data\n",
    "numerical_columns_scaled = pd.DataFrame(scaler.transform(train_df[numerical_columns]), columns=numerical_columns)\n",
    "numerical_columns_scaled.describe()"
   ]
  },
  {
   "cell_type": "code",
   "execution_count": 38,
   "metadata": {},
   "outputs": [
    {
     "data": {
      "text/html": [
       "<div>\n",
       "<style scoped>\n",
       "    .dataframe tbody tr th:only-of-type {\n",
       "        vertical-align: middle;\n",
       "    }\n",
       "\n",
       "    .dataframe tbody tr th {\n",
       "        vertical-align: top;\n",
       "    }\n",
       "\n",
       "    .dataframe thead th {\n",
       "        text-align: right;\n",
       "    }\n",
       "</style>\n",
       "<table border=\"1\" class=\"dataframe\">\n",
       "  <thead>\n",
       "    <tr style=\"text-align: right;\">\n",
       "      <th></th>\n",
       "      <th>price min</th>\n",
       "      <th>price max</th>\n",
       "      <th>rating total</th>\n",
       "      <th>weighted rating</th>\n",
       "    </tr>\n",
       "  </thead>\n",
       "  <tbody>\n",
       "    <tr>\n",
       "      <th>count</th>\n",
       "      <td>2.676000e+03</td>\n",
       "      <td>2.676000e+03</td>\n",
       "      <td>2.676000e+03</td>\n",
       "      <td>2.676000e+03</td>\n",
       "    </tr>\n",
       "    <tr>\n",
       "      <th>mean</th>\n",
       "      <td>-2.296784e-16</td>\n",
       "      <td>-1.526764e-16</td>\n",
       "      <td>-3.982863e-17</td>\n",
       "      <td>-4.237766e-15</td>\n",
       "    </tr>\n",
       "    <tr>\n",
       "      <th>std</th>\n",
       "      <td>1.000187e+00</td>\n",
       "      <td>1.000187e+00</td>\n",
       "      <td>1.000187e+00</td>\n",
       "      <td>1.000187e+00</td>\n",
       "    </tr>\n",
       "    <tr>\n",
       "      <th>min</th>\n",
       "      <td>-1.724398e+00</td>\n",
       "      <td>-1.879479e+00</td>\n",
       "      <td>-7.733095e-01</td>\n",
       "      <td>-2.880777e+00</td>\n",
       "    </tr>\n",
       "    <tr>\n",
       "      <th>25%</th>\n",
       "      <td>-6.727231e-01</td>\n",
       "      <td>-6.972677e-01</td>\n",
       "      <td>-6.921913e-01</td>\n",
       "      <td>-6.040096e-01</td>\n",
       "    </tr>\n",
       "    <tr>\n",
       "      <th>50%</th>\n",
       "      <td>-1.165163e-01</td>\n",
       "      <td>-1.535596e-01</td>\n",
       "      <td>-4.419134e-01</td>\n",
       "      <td>9.653420e-02</td>\n",
       "    </tr>\n",
       "    <tr>\n",
       "      <th>75%</th>\n",
       "      <td>5.077401e-01</td>\n",
       "      <td>5.552221e-01</td>\n",
       "      <td>2.919582e-01</td>\n",
       "      <td>7.386994e-01</td>\n",
       "    </tr>\n",
       "    <tr>\n",
       "      <th>max</th>\n",
       "      <td>3.038509e+00</td>\n",
       "      <td>2.570429e+00</td>\n",
       "      <td>3.561610e+00</td>\n",
       "      <td>2.723573e+00</td>\n",
       "    </tr>\n",
       "  </tbody>\n",
       "</table>\n",
       "</div>"
      ],
      "text/plain": [
       "          price min     price max  rating total  weighted rating\n",
       "count  2.676000e+03  2.676000e+03  2.676000e+03     2.676000e+03\n",
       "mean  -2.296784e-16 -1.526764e-16 -3.982863e-17    -4.237766e-15\n",
       "std    1.000187e+00  1.000187e+00  1.000187e+00     1.000187e+00\n",
       "min   -1.724398e+00 -1.879479e+00 -7.733095e-01    -2.880777e+00\n",
       "25%   -6.727231e-01 -6.972677e-01 -6.921913e-01    -6.040096e-01\n",
       "50%   -1.165163e-01 -1.535596e-01 -4.419134e-01     9.653420e-02\n",
       "75%    5.077401e-01  5.552221e-01  2.919582e-01     7.386994e-01\n",
       "max    3.038509e+00  2.570429e+00  3.561610e+00     2.723573e+00"
      ]
     },
     "execution_count": 38,
     "metadata": {},
     "output_type": "execute_result"
    }
   ],
   "source": [
    "train_df.reset_index(drop=True, inplace=True)\n",
    "# Replace the numerical columns with the scaled values\n",
    "train_df[numerical_columns] = numerical_columns_scaled\n",
    "train_df[numerical_columns].describe()"
   ]
  },
  {
   "cell_type": "markdown",
   "metadata": {},
   "source": [
    "### Feature Engineering"
   ]
  },
  {
   "cell_type": "code",
   "execution_count": 39,
   "metadata": {},
   "outputs": [
    {
     "name": "stdout",
     "output_type": "stream",
     "text": [
      "<class 'pandas.core.frame.DataFrame'>\n",
      "RangeIndex: 2676 entries, 0 to 2675\n",
      "Data columns (total 10 columns):\n",
      " #   Column             Non-Null Count  Dtype  \n",
      "---  ------             --------------  -----  \n",
      " 0   title              2676 non-null   object \n",
      " 1   price min          2676 non-null   float64\n",
      " 2   price max          2676 non-null   float64\n",
      " 3   rating total       2676 non-null   float64\n",
      " 4   variants           2676 non-null   object \n",
      " 5   product about      2676 non-null   object \n",
      " 6   fabric type        2676 non-null   object \n",
      " 7   care instructions  2676 non-null   object \n",
      " 8   origin             2676 non-null   object \n",
      " 9   weighted rating    2676 non-null   float64\n",
      "dtypes: float64(4), object(6)\n",
      "memory usage: 209.2+ KB\n"
     ]
    }
   ],
   "source": [
    "train_df.info()"
   ]
  },
  {
   "cell_type": "markdown",
   "metadata": {},
   "source": [
    "#### One-hot encoding for care instructions: machine washable?"
   ]
  },
  {
   "cell_type": "code",
   "execution_count": 40,
   "metadata": {},
   "outputs": [],
   "source": [
    "train_df['care instructions'] = train_df['care instructions'].apply(lambda x: x.lower())\n",
    "train_df['machine wash'] = train_df['care instructions'].apply(lambda x: 1 if 'machine wash' in x else 0)\n",
    "train_df.drop(columns=['care instructions'], inplace=True)"
   ]
  },
  {
   "cell_type": "markdown",
   "metadata": {},
   "source": [
    "#### One-hot encoding for origin: made in usa, imported or unknown?"
   ]
  },
  {
   "cell_type": "code",
   "execution_count": 41,
   "metadata": {},
   "outputs": [],
   "source": [
    "train_df['origin'] = train_df['origin'].apply(lambda x: x.lower())\n",
    "train_df['origin usa'] = train_df['origin'].apply(lambda x: 1 if 'us' in x else 0)\n",
    "train_df['origin imported'] = train_df['origin'].apply(lambda x: 1 if 'import' in x else 0)\n",
    "train_df['origin unknown'] = train_df['origin'].apply(lambda x: 1 if 'us' not in x and 'import' not in x else 0)\n",
    "train_df.drop(columns=['origin'], inplace=True)"
   ]
  },
  {
   "cell_type": "markdown",
   "metadata": {},
   "source": [
    "#### One-hot encoding for colors"
   ]
  },
  {
   "cell_type": "markdown",
   "metadata": {},
   "source": [
    "If there is a variant with a color, the feature is set to 1, otherwise 0."
   ]
  },
  {
   "cell_type": "code",
   "execution_count": 42,
   "metadata": {},
   "outputs": [],
   "source": [
    "import re\n",
    "\n",
    "train_df['variants'] = train_df['variants'].apply(lambda x: re.sub(r'[^a-zA-Z0-9]', '', x.lower()))\n",
    "\n",
    "all_colors = ['beige', 'black', 'blue', 'brown', 'gold', 'gray', 'green', 'grey', \n",
    "              'khaki', 'navy', 'orange', 'pink', 'purple', 'red', 'silver', 'white', 'yellow']\n",
    "\n",
    "for color in all_colors:\n",
    "    train_df[f'color {color}'] = train_df['variants'].apply(lambda x: 1 if color in x else 0)\n",
    "\n",
    "train_df.drop(columns=['variants'], inplace=True)"
   ]
  }
 ],
 "metadata": {
  "kernelspec": {
   "display_name": "min_ds-env",
   "language": "python",
   "name": "python3"
  },
  "language_info": {
   "codemirror_mode": {
    "name": "ipython",
    "version": 3
   },
   "file_extension": ".py",
   "mimetype": "text/x-python",
   "name": "python",
   "nbconvert_exporter": "python",
   "pygments_lexer": "ipython3",
   "version": "3.10.8"
  }
 },
 "nbformat": 4,
 "nbformat_minor": 4
}
